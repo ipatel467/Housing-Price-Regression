{
 "cells": [
  {
   "cell_type": "code",
   "execution_count": 1,
   "metadata": {},
   "outputs": [],
   "source": [
    "import numpy as np\n",
    "import pandas as pd\n",
    "import seaborn as sns\n",
    "import matplotlib.pyplot as plt\n",
    "from sklearn import datasets, linear_model\n",
    "from sklearn.model_selection import train_test_split\n",
    "from sklearn.metrics import mean_squared_error\n",
    "%matplotlib inline\n"
   ]
  },
  {
   "cell_type": "code",
   "execution_count": 2,
   "metadata": {},
   "outputs": [],
   "source": [
    "df_original = pd.read_csv('home_data.csv.zip')"
   ]
  },
  {
   "cell_type": "code",
   "execution_count": 3,
   "metadata": {},
   "outputs": [],
   "source": [
    "df = df_original.copy()"
   ]
  },
  {
   "cell_type": "code",
   "execution_count": 4,
   "metadata": {},
   "outputs": [
    {
     "data": {
      "text/html": [
       "<div>\n",
       "<style scoped>\n",
       "    .dataframe tbody tr th:only-of-type {\n",
       "        vertical-align: middle;\n",
       "    }\n",
       "\n",
       "    .dataframe tbody tr th {\n",
       "        vertical-align: top;\n",
       "    }\n",
       "\n",
       "    .dataframe thead th {\n",
       "        text-align: right;\n",
       "    }\n",
       "</style>\n",
       "<table border=\"1\" class=\"dataframe\">\n",
       "  <thead>\n",
       "    <tr style=\"text-align: right;\">\n",
       "      <th></th>\n",
       "      <th>id</th>\n",
       "      <th>date</th>\n",
       "      <th>price</th>\n",
       "      <th>bedrooms</th>\n",
       "      <th>bathrooms</th>\n",
       "      <th>sqft_living</th>\n",
       "      <th>sqft_lot</th>\n",
       "      <th>floors</th>\n",
       "      <th>waterfront</th>\n",
       "      <th>view</th>\n",
       "      <th>...</th>\n",
       "      <th>grade</th>\n",
       "      <th>sqft_above</th>\n",
       "      <th>sqft_basement</th>\n",
       "      <th>yr_built</th>\n",
       "      <th>yr_renovated</th>\n",
       "      <th>zipcode</th>\n",
       "      <th>lat</th>\n",
       "      <th>long</th>\n",
       "      <th>sqft_living15</th>\n",
       "      <th>sqft_lot15</th>\n",
       "    </tr>\n",
       "  </thead>\n",
       "  <tbody>\n",
       "    <tr>\n",
       "      <th>0</th>\n",
       "      <td>7129300520</td>\n",
       "      <td>20141013T000000</td>\n",
       "      <td>221900</td>\n",
       "      <td>3</td>\n",
       "      <td>1.00</td>\n",
       "      <td>1180</td>\n",
       "      <td>5650</td>\n",
       "      <td>1.0</td>\n",
       "      <td>0</td>\n",
       "      <td>0</td>\n",
       "      <td>...</td>\n",
       "      <td>7</td>\n",
       "      <td>1180</td>\n",
       "      <td>0</td>\n",
       "      <td>1955</td>\n",
       "      <td>0</td>\n",
       "      <td>98178</td>\n",
       "      <td>47.5112</td>\n",
       "      <td>-122.257</td>\n",
       "      <td>1340</td>\n",
       "      <td>5650</td>\n",
       "    </tr>\n",
       "    <tr>\n",
       "      <th>1</th>\n",
       "      <td>6414100192</td>\n",
       "      <td>20141209T000000</td>\n",
       "      <td>538000</td>\n",
       "      <td>3</td>\n",
       "      <td>2.25</td>\n",
       "      <td>2570</td>\n",
       "      <td>7242</td>\n",
       "      <td>2.0</td>\n",
       "      <td>0</td>\n",
       "      <td>0</td>\n",
       "      <td>...</td>\n",
       "      <td>7</td>\n",
       "      <td>2170</td>\n",
       "      <td>400</td>\n",
       "      <td>1951</td>\n",
       "      <td>1991</td>\n",
       "      <td>98125</td>\n",
       "      <td>47.7210</td>\n",
       "      <td>-122.319</td>\n",
       "      <td>1690</td>\n",
       "      <td>7639</td>\n",
       "    </tr>\n",
       "    <tr>\n",
       "      <th>2</th>\n",
       "      <td>5631500400</td>\n",
       "      <td>20150225T000000</td>\n",
       "      <td>180000</td>\n",
       "      <td>2</td>\n",
       "      <td>1.00</td>\n",
       "      <td>770</td>\n",
       "      <td>10000</td>\n",
       "      <td>1.0</td>\n",
       "      <td>0</td>\n",
       "      <td>0</td>\n",
       "      <td>...</td>\n",
       "      <td>6</td>\n",
       "      <td>770</td>\n",
       "      <td>0</td>\n",
       "      <td>1933</td>\n",
       "      <td>0</td>\n",
       "      <td>98028</td>\n",
       "      <td>47.7379</td>\n",
       "      <td>-122.233</td>\n",
       "      <td>2720</td>\n",
       "      <td>8062</td>\n",
       "    </tr>\n",
       "    <tr>\n",
       "      <th>3</th>\n",
       "      <td>2487200875</td>\n",
       "      <td>20141209T000000</td>\n",
       "      <td>604000</td>\n",
       "      <td>4</td>\n",
       "      <td>3.00</td>\n",
       "      <td>1960</td>\n",
       "      <td>5000</td>\n",
       "      <td>1.0</td>\n",
       "      <td>0</td>\n",
       "      <td>0</td>\n",
       "      <td>...</td>\n",
       "      <td>7</td>\n",
       "      <td>1050</td>\n",
       "      <td>910</td>\n",
       "      <td>1965</td>\n",
       "      <td>0</td>\n",
       "      <td>98136</td>\n",
       "      <td>47.5208</td>\n",
       "      <td>-122.393</td>\n",
       "      <td>1360</td>\n",
       "      <td>5000</td>\n",
       "    </tr>\n",
       "    <tr>\n",
       "      <th>4</th>\n",
       "      <td>1954400510</td>\n",
       "      <td>20150218T000000</td>\n",
       "      <td>510000</td>\n",
       "      <td>3</td>\n",
       "      <td>2.00</td>\n",
       "      <td>1680</td>\n",
       "      <td>8080</td>\n",
       "      <td>1.0</td>\n",
       "      <td>0</td>\n",
       "      <td>0</td>\n",
       "      <td>...</td>\n",
       "      <td>8</td>\n",
       "      <td>1680</td>\n",
       "      <td>0</td>\n",
       "      <td>1987</td>\n",
       "      <td>0</td>\n",
       "      <td>98074</td>\n",
       "      <td>47.6168</td>\n",
       "      <td>-122.045</td>\n",
       "      <td>1800</td>\n",
       "      <td>7503</td>\n",
       "    </tr>\n",
       "  </tbody>\n",
       "</table>\n",
       "<p>5 rows × 21 columns</p>\n",
       "</div>"
      ],
      "text/plain": [
       "           id             date   price  bedrooms  bathrooms  sqft_living  \\\n",
       "0  7129300520  20141013T000000  221900         3       1.00         1180   \n",
       "1  6414100192  20141209T000000  538000         3       2.25         2570   \n",
       "2  5631500400  20150225T000000  180000         2       1.00          770   \n",
       "3  2487200875  20141209T000000  604000         4       3.00         1960   \n",
       "4  1954400510  20150218T000000  510000         3       2.00         1680   \n",
       "\n",
       "   sqft_lot  floors  waterfront  view  ...  grade  sqft_above  sqft_basement  \\\n",
       "0      5650     1.0           0     0  ...      7        1180              0   \n",
       "1      7242     2.0           0     0  ...      7        2170            400   \n",
       "2     10000     1.0           0     0  ...      6         770              0   \n",
       "3      5000     1.0           0     0  ...      7        1050            910   \n",
       "4      8080     1.0           0     0  ...      8        1680              0   \n",
       "\n",
       "   yr_built  yr_renovated  zipcode      lat     long  sqft_living15  \\\n",
       "0      1955             0    98178  47.5112 -122.257           1340   \n",
       "1      1951          1991    98125  47.7210 -122.319           1690   \n",
       "2      1933             0    98028  47.7379 -122.233           2720   \n",
       "3      1965             0    98136  47.5208 -122.393           1360   \n",
       "4      1987             0    98074  47.6168 -122.045           1800   \n",
       "\n",
       "   sqft_lot15  \n",
       "0        5650  \n",
       "1        7639  \n",
       "2        8062  \n",
       "3        5000  \n",
       "4        7503  \n",
       "\n",
       "[5 rows x 21 columns]"
      ]
     },
     "execution_count": 4,
     "metadata": {},
     "output_type": "execute_result"
    }
   ],
   "source": [
    "df.head()"
   ]
  },
  {
   "cell_type": "code",
   "execution_count": 5,
   "metadata": {},
   "outputs": [
    {
     "data": {
      "text/plain": [
       "id               0\n",
       "date             0\n",
       "price            0\n",
       "bedrooms         0\n",
       "bathrooms        0\n",
       "sqft_living      0\n",
       "sqft_lot         0\n",
       "floors           0\n",
       "waterfront       0\n",
       "view             0\n",
       "condition        0\n",
       "grade            0\n",
       "sqft_above       0\n",
       "sqft_basement    0\n",
       "yr_built         0\n",
       "yr_renovated     0\n",
       "zipcode          0\n",
       "lat              0\n",
       "long             0\n",
       "sqft_living15    0\n",
       "sqft_lot15       0\n",
       "dtype: int64"
      ]
     },
     "execution_count": 5,
     "metadata": {},
     "output_type": "execute_result"
    }
   ],
   "source": [
    "df.isna().sum()"
   ]
  },
  {
   "cell_type": "code",
   "execution_count": 6,
   "metadata": {},
   "outputs": [
    {
     "data": {
      "text/plain": [
       "id                 int64\n",
       "date              object\n",
       "price              int64\n",
       "bedrooms           int64\n",
       "bathrooms        float64\n",
       "sqft_living        int64\n",
       "sqft_lot           int64\n",
       "floors           float64\n",
       "waterfront         int64\n",
       "view               int64\n",
       "condition          int64\n",
       "grade              int64\n",
       "sqft_above         int64\n",
       "sqft_basement      int64\n",
       "yr_built           int64\n",
       "yr_renovated       int64\n",
       "zipcode            int64\n",
       "lat              float64\n",
       "long             float64\n",
       "sqft_living15      int64\n",
       "sqft_lot15         int64\n",
       "dtype: object"
      ]
     },
     "execution_count": 6,
     "metadata": {},
     "output_type": "execute_result"
    }
   ],
   "source": [
    "df.dtypes"
   ]
  },
  {
   "cell_type": "code",
   "execution_count": 7,
   "metadata": {},
   "outputs": [
    {
     "data": {
      "text/plain": [
       "Index(['id', 'date', 'price', 'bedrooms', 'bathrooms', 'sqft_living',\n",
       "       'sqft_lot', 'floors', 'waterfront', 'view', 'condition', 'grade',\n",
       "       'sqft_above', 'sqft_basement', 'yr_built', 'yr_renovated', 'zipcode',\n",
       "       'lat', 'long', 'sqft_living15', 'sqft_lot15'],\n",
       "      dtype='object')"
      ]
     },
     "execution_count": 7,
     "metadata": {},
     "output_type": "execute_result"
    }
   ],
   "source": [
    "df.columns"
   ]
  },
  {
   "cell_type": "code",
   "execution_count": 8,
   "metadata": {},
   "outputs": [],
   "source": [
    "# target is the price\n",
    "# some features will be 'bedrooms', 'bathrooms', 'sqft_living', floors' view, yr_renovated, zipcode, 'condition', sqft_basement'\n"
   ]
  },
  {
   "cell_type": "code",
   "execution_count": 9,
   "metadata": {},
   "outputs": [
    {
     "data": {
      "text/plain": [
       "(21613, 21)"
      ]
     },
     "execution_count": 9,
     "metadata": {},
     "output_type": "execute_result"
    }
   ],
   "source": [
    "df.shape"
   ]
  },
  {
   "cell_type": "code",
   "execution_count": 10,
   "metadata": {},
   "outputs": [],
   "source": [
    "df = df.drop(['lat', 'long', 'sqft_living15', 'sqft_lot15','sqft_above','date','waterfront','yr_renovated' ,'view','sqft_basement'], axis = 1)"
   ]
  },
  {
   "cell_type": "code",
   "execution_count": 11,
   "metadata": {},
   "outputs": [
    {
     "data": {
      "text/plain": [
       "Index(['id', 'price', 'bedrooms', 'bathrooms', 'sqft_living', 'sqft_lot',\n",
       "       'floors', 'condition', 'grade', 'yr_built', 'zipcode'],\n",
       "      dtype='object')"
      ]
     },
     "execution_count": 11,
     "metadata": {},
     "output_type": "execute_result"
    }
   ],
   "source": [
    "df.columns"
   ]
  },
  {
   "cell_type": "code",
   "execution_count": 12,
   "metadata": {},
   "outputs": [
    {
     "data": {
      "text/plain": [
       "Index(['id', 'price', 'bedrooms', 'bathrooms', 'sqft_living', 'sqft_lot',\n",
       "       'floors', 'condition', 'grade', 'yr_built', 'zipcode'],\n",
       "      dtype='object')"
      ]
     },
     "execution_count": 12,
     "metadata": {},
     "output_type": "execute_result"
    }
   ],
   "source": [
    "df.columns"
   ]
  },
  {
   "cell_type": "code",
   "execution_count": 13,
   "metadata": {},
   "outputs": [
    {
     "data": {
      "text/html": [
       "<div>\n",
       "<style scoped>\n",
       "    .dataframe tbody tr th:only-of-type {\n",
       "        vertical-align: middle;\n",
       "    }\n",
       "\n",
       "    .dataframe tbody tr th {\n",
       "        vertical-align: top;\n",
       "    }\n",
       "\n",
       "    .dataframe thead th {\n",
       "        text-align: right;\n",
       "    }\n",
       "</style>\n",
       "<table border=\"1\" class=\"dataframe\">\n",
       "  <thead>\n",
       "    <tr style=\"text-align: right;\">\n",
       "      <th></th>\n",
       "      <th>id</th>\n",
       "      <th>price</th>\n",
       "      <th>bedrooms</th>\n",
       "      <th>bathrooms</th>\n",
       "      <th>sqft_living</th>\n",
       "      <th>sqft_lot</th>\n",
       "      <th>floors</th>\n",
       "      <th>condition</th>\n",
       "      <th>grade</th>\n",
       "      <th>yr_built</th>\n",
       "      <th>zipcode</th>\n",
       "    </tr>\n",
       "  </thead>\n",
       "  <tbody>\n",
       "    <tr>\n",
       "      <th>count</th>\n",
       "      <td>2.161300e+04</td>\n",
       "      <td>2.161300e+04</td>\n",
       "      <td>21613.000000</td>\n",
       "      <td>21613.000000</td>\n",
       "      <td>21613.000000</td>\n",
       "      <td>2.161300e+04</td>\n",
       "      <td>21613.000000</td>\n",
       "      <td>21613.000000</td>\n",
       "      <td>21613.000000</td>\n",
       "      <td>21613.000000</td>\n",
       "      <td>21613.000000</td>\n",
       "    </tr>\n",
       "    <tr>\n",
       "      <th>mean</th>\n",
       "      <td>4.580302e+09</td>\n",
       "      <td>5.400881e+05</td>\n",
       "      <td>3.370842</td>\n",
       "      <td>2.114757</td>\n",
       "      <td>2079.899736</td>\n",
       "      <td>1.510697e+04</td>\n",
       "      <td>1.494309</td>\n",
       "      <td>3.409430</td>\n",
       "      <td>7.656873</td>\n",
       "      <td>1971.005136</td>\n",
       "      <td>98077.939805</td>\n",
       "    </tr>\n",
       "    <tr>\n",
       "      <th>std</th>\n",
       "      <td>2.876566e+09</td>\n",
       "      <td>3.671272e+05</td>\n",
       "      <td>0.930062</td>\n",
       "      <td>0.770163</td>\n",
       "      <td>918.440897</td>\n",
       "      <td>4.142051e+04</td>\n",
       "      <td>0.539989</td>\n",
       "      <td>0.650743</td>\n",
       "      <td>1.175459</td>\n",
       "      <td>29.373411</td>\n",
       "      <td>53.505026</td>\n",
       "    </tr>\n",
       "    <tr>\n",
       "      <th>min</th>\n",
       "      <td>1.000102e+06</td>\n",
       "      <td>7.500000e+04</td>\n",
       "      <td>0.000000</td>\n",
       "      <td>0.000000</td>\n",
       "      <td>290.000000</td>\n",
       "      <td>5.200000e+02</td>\n",
       "      <td>1.000000</td>\n",
       "      <td>1.000000</td>\n",
       "      <td>1.000000</td>\n",
       "      <td>1900.000000</td>\n",
       "      <td>98001.000000</td>\n",
       "    </tr>\n",
       "    <tr>\n",
       "      <th>25%</th>\n",
       "      <td>2.123049e+09</td>\n",
       "      <td>3.219500e+05</td>\n",
       "      <td>3.000000</td>\n",
       "      <td>1.750000</td>\n",
       "      <td>1427.000000</td>\n",
       "      <td>5.040000e+03</td>\n",
       "      <td>1.000000</td>\n",
       "      <td>3.000000</td>\n",
       "      <td>7.000000</td>\n",
       "      <td>1951.000000</td>\n",
       "      <td>98033.000000</td>\n",
       "    </tr>\n",
       "    <tr>\n",
       "      <th>50%</th>\n",
       "      <td>3.904930e+09</td>\n",
       "      <td>4.500000e+05</td>\n",
       "      <td>3.000000</td>\n",
       "      <td>2.250000</td>\n",
       "      <td>1910.000000</td>\n",
       "      <td>7.618000e+03</td>\n",
       "      <td>1.500000</td>\n",
       "      <td>3.000000</td>\n",
       "      <td>7.000000</td>\n",
       "      <td>1975.000000</td>\n",
       "      <td>98065.000000</td>\n",
       "    </tr>\n",
       "    <tr>\n",
       "      <th>75%</th>\n",
       "      <td>7.308900e+09</td>\n",
       "      <td>6.450000e+05</td>\n",
       "      <td>4.000000</td>\n",
       "      <td>2.500000</td>\n",
       "      <td>2550.000000</td>\n",
       "      <td>1.068800e+04</td>\n",
       "      <td>2.000000</td>\n",
       "      <td>4.000000</td>\n",
       "      <td>8.000000</td>\n",
       "      <td>1997.000000</td>\n",
       "      <td>98118.000000</td>\n",
       "    </tr>\n",
       "    <tr>\n",
       "      <th>max</th>\n",
       "      <td>9.900000e+09</td>\n",
       "      <td>7.700000e+06</td>\n",
       "      <td>33.000000</td>\n",
       "      <td>8.000000</td>\n",
       "      <td>13540.000000</td>\n",
       "      <td>1.651359e+06</td>\n",
       "      <td>3.500000</td>\n",
       "      <td>5.000000</td>\n",
       "      <td>13.000000</td>\n",
       "      <td>2015.000000</td>\n",
       "      <td>98199.000000</td>\n",
       "    </tr>\n",
       "  </tbody>\n",
       "</table>\n",
       "</div>"
      ],
      "text/plain": [
       "                 id         price      bedrooms     bathrooms   sqft_living  \\\n",
       "count  2.161300e+04  2.161300e+04  21613.000000  21613.000000  21613.000000   \n",
       "mean   4.580302e+09  5.400881e+05      3.370842      2.114757   2079.899736   \n",
       "std    2.876566e+09  3.671272e+05      0.930062      0.770163    918.440897   \n",
       "min    1.000102e+06  7.500000e+04      0.000000      0.000000    290.000000   \n",
       "25%    2.123049e+09  3.219500e+05      3.000000      1.750000   1427.000000   \n",
       "50%    3.904930e+09  4.500000e+05      3.000000      2.250000   1910.000000   \n",
       "75%    7.308900e+09  6.450000e+05      4.000000      2.500000   2550.000000   \n",
       "max    9.900000e+09  7.700000e+06     33.000000      8.000000  13540.000000   \n",
       "\n",
       "           sqft_lot        floors     condition         grade      yr_built  \\\n",
       "count  2.161300e+04  21613.000000  21613.000000  21613.000000  21613.000000   \n",
       "mean   1.510697e+04      1.494309      3.409430      7.656873   1971.005136   \n",
       "std    4.142051e+04      0.539989      0.650743      1.175459     29.373411   \n",
       "min    5.200000e+02      1.000000      1.000000      1.000000   1900.000000   \n",
       "25%    5.040000e+03      1.000000      3.000000      7.000000   1951.000000   \n",
       "50%    7.618000e+03      1.500000      3.000000      7.000000   1975.000000   \n",
       "75%    1.068800e+04      2.000000      4.000000      8.000000   1997.000000   \n",
       "max    1.651359e+06      3.500000      5.000000     13.000000   2015.000000   \n",
       "\n",
       "            zipcode  \n",
       "count  21613.000000  \n",
       "mean   98077.939805  \n",
       "std       53.505026  \n",
       "min    98001.000000  \n",
       "25%    98033.000000  \n",
       "50%    98065.000000  \n",
       "75%    98118.000000  \n",
       "max    98199.000000  "
      ]
     },
     "execution_count": 13,
     "metadata": {},
     "output_type": "execute_result"
    }
   ],
   "source": [
    "df.describe()"
   ]
  },
  {
   "cell_type": "code",
   "execution_count": 14,
   "metadata": {},
   "outputs": [],
   "source": [
    "import statsmodels.api as sm\n",
    "import statsmodels.formula.api as smf\n"
   ]
  },
  {
   "cell_type": "code",
   "execution_count": null,
   "metadata": {},
   "outputs": [],
   "source": []
  },
  {
   "cell_type": "code",
   "execution_count": null,
   "metadata": {},
   "outputs": [],
   "source": []
  },
  {
   "cell_type": "code",
   "execution_count": null,
   "metadata": {},
   "outputs": [],
   "source": []
  },
  {
   "cell_type": "code",
   "execution_count": 16,
   "metadata": {},
   "outputs": [
    {
     "data": {
      "text/html": [
       "<div>\n",
       "<style scoped>\n",
       "    .dataframe tbody tr th:only-of-type {\n",
       "        vertical-align: middle;\n",
       "    }\n",
       "\n",
       "    .dataframe tbody tr th {\n",
       "        vertical-align: top;\n",
       "    }\n",
       "\n",
       "    .dataframe thead th {\n",
       "        text-align: right;\n",
       "    }\n",
       "</style>\n",
       "<table border=\"1\" class=\"dataframe\">\n",
       "  <thead>\n",
       "    <tr style=\"text-align: right;\">\n",
       "      <th></th>\n",
       "      <th>id</th>\n",
       "      <th>price</th>\n",
       "      <th>bedrooms</th>\n",
       "      <th>bathrooms</th>\n",
       "      <th>sqft_living</th>\n",
       "      <th>sqft_lot</th>\n",
       "      <th>floors</th>\n",
       "      <th>condition</th>\n",
       "      <th>grade</th>\n",
       "      <th>yr_built</th>\n",
       "      <th>zipcode</th>\n",
       "    </tr>\n",
       "  </thead>\n",
       "  <tbody>\n",
       "    <tr>\n",
       "      <th>0</th>\n",
       "      <td>7129300520</td>\n",
       "      <td>221900</td>\n",
       "      <td>3</td>\n",
       "      <td>1.00</td>\n",
       "      <td>1180</td>\n",
       "      <td>5650</td>\n",
       "      <td>1.0</td>\n",
       "      <td>3</td>\n",
       "      <td>7</td>\n",
       "      <td>1955</td>\n",
       "      <td>98178</td>\n",
       "    </tr>\n",
       "    <tr>\n",
       "      <th>1</th>\n",
       "      <td>6414100192</td>\n",
       "      <td>538000</td>\n",
       "      <td>3</td>\n",
       "      <td>2.25</td>\n",
       "      <td>2570</td>\n",
       "      <td>7242</td>\n",
       "      <td>2.0</td>\n",
       "      <td>3</td>\n",
       "      <td>7</td>\n",
       "      <td>1951</td>\n",
       "      <td>98125</td>\n",
       "    </tr>\n",
       "    <tr>\n",
       "      <th>2</th>\n",
       "      <td>5631500400</td>\n",
       "      <td>180000</td>\n",
       "      <td>2</td>\n",
       "      <td>1.00</td>\n",
       "      <td>770</td>\n",
       "      <td>10000</td>\n",
       "      <td>1.0</td>\n",
       "      <td>3</td>\n",
       "      <td>6</td>\n",
       "      <td>1933</td>\n",
       "      <td>98028</td>\n",
       "    </tr>\n",
       "    <tr>\n",
       "      <th>3</th>\n",
       "      <td>2487200875</td>\n",
       "      <td>604000</td>\n",
       "      <td>4</td>\n",
       "      <td>3.00</td>\n",
       "      <td>1960</td>\n",
       "      <td>5000</td>\n",
       "      <td>1.0</td>\n",
       "      <td>5</td>\n",
       "      <td>7</td>\n",
       "      <td>1965</td>\n",
       "      <td>98136</td>\n",
       "    </tr>\n",
       "    <tr>\n",
       "      <th>4</th>\n",
       "      <td>1954400510</td>\n",
       "      <td>510000</td>\n",
       "      <td>3</td>\n",
       "      <td>2.00</td>\n",
       "      <td>1680</td>\n",
       "      <td>8080</td>\n",
       "      <td>1.0</td>\n",
       "      <td>3</td>\n",
       "      <td>8</td>\n",
       "      <td>1987</td>\n",
       "      <td>98074</td>\n",
       "    </tr>\n",
       "  </tbody>\n",
       "</table>\n",
       "</div>"
      ],
      "text/plain": [
       "           id   price  bedrooms  bathrooms  sqft_living  sqft_lot  floors  \\\n",
       "0  7129300520  221900         3       1.00         1180      5650     1.0   \n",
       "1  6414100192  538000         3       2.25         2570      7242     2.0   \n",
       "2  5631500400  180000         2       1.00          770     10000     1.0   \n",
       "3  2487200875  604000         4       3.00         1960      5000     1.0   \n",
       "4  1954400510  510000         3       2.00         1680      8080     1.0   \n",
       "\n",
       "   condition  grade  yr_built  zipcode  \n",
       "0          3      7      1955    98178  \n",
       "1          3      7      1951    98125  \n",
       "2          3      6      1933    98028  \n",
       "3          5      7      1965    98136  \n",
       "4          3      8      1987    98074  "
      ]
     },
     "execution_count": 16,
     "metadata": {},
     "output_type": "execute_result"
    }
   ],
   "source": [
    "df.head()"
   ]
  },
  {
   "cell_type": "code",
   "execution_count": 17,
   "metadata": {},
   "outputs": [
    {
     "data": {
      "text/plain": [
       "3    14031\n",
       "4     5679\n",
       "5     1701\n",
       "2      172\n",
       "1       30\n",
       "Name: condition, dtype: int64"
      ]
     },
     "execution_count": 17,
     "metadata": {},
     "output_type": "execute_result"
    }
   ],
   "source": [
    "df['condition'].value_counts()"
   ]
  },
  {
   "cell_type": "code",
   "execution_count": 18,
   "metadata": {},
   "outputs": [
    {
     "data": {
      "text/plain": [
       "Index(['id', 'price', 'bedrooms', 'bathrooms', 'sqft_living', 'sqft_lot',\n",
       "       'floors', 'condition', 'grade', 'yr_built', 'zipcode'],\n",
       "      dtype='object')"
      ]
     },
     "execution_count": 18,
     "metadata": {},
     "output_type": "execute_result"
    }
   ],
   "source": [
    "df.columns"
   ]
  },
  {
   "cell_type": "code",
   "execution_count": 19,
   "metadata": {},
   "outputs": [],
   "source": [
    "df['sqft_living'] = np.log(df['sqft_living'])"
   ]
  },
  {
   "cell_type": "code",
   "execution_count": 20,
   "metadata": {},
   "outputs": [],
   "source": [
    "features_df = df[['bedrooms', 'bathrooms', 'sqft_living',\n",
    "       'floors', 'condition', 'yr_built']]"
   ]
  },
  {
   "cell_type": "code",
   "execution_count": 21,
   "metadata": {},
   "outputs": [],
   "source": [
    "features_df;"
   ]
  },
  {
   "cell_type": "code",
   "execution_count": 22,
   "metadata": {},
   "outputs": [],
   "source": [
    "from sklearn import preprocessing\n",
    "from scipy import stats"
   ]
  },
  {
   "cell_type": "code",
   "execution_count": null,
   "metadata": {},
   "outputs": [],
   "source": []
  },
  {
   "cell_type": "code",
   "execution_count": 66,
   "metadata": {},
   "outputs": [],
   "source": [
    "z_scores_df = pd.DataFrame(stats.zscore(features_df), columns = features_df.columns)\n",
    "no_outliers_z_df =  z_scores_df[(np.abs(z_scores_df) <= 2.5).all(axis=1)]"
   ]
  },
  {
   "cell_type": "code",
   "execution_count": 67,
   "metadata": {},
   "outputs": [
    {
     "data": {
      "text/html": [
       "<div>\n",
       "<style scoped>\n",
       "    .dataframe tbody tr th:only-of-type {\n",
       "        vertical-align: middle;\n",
       "    }\n",
       "\n",
       "    .dataframe tbody tr th {\n",
       "        vertical-align: top;\n",
       "    }\n",
       "\n",
       "    .dataframe thead th {\n",
       "        text-align: right;\n",
       "    }\n",
       "</style>\n",
       "<table border=\"1\" class=\"dataframe\">\n",
       "  <thead>\n",
       "    <tr style=\"text-align: right;\">\n",
       "      <th></th>\n",
       "      <th>bedrooms</th>\n",
       "      <th>bathrooms</th>\n",
       "      <th>sqft_living</th>\n",
       "      <th>floors</th>\n",
       "      <th>condition</th>\n",
       "      <th>yr_built</th>\n",
       "      <th>price</th>\n",
       "    </tr>\n",
       "  </thead>\n",
       "  <tbody>\n",
       "    <tr>\n",
       "      <th>0</th>\n",
       "      <td>-0.398737</td>\n",
       "      <td>-1.447464</td>\n",
       "      <td>-1.123042</td>\n",
       "      <td>-0.915427</td>\n",
       "      <td>-0.629187</td>\n",
       "      <td>-0.544898</td>\n",
       "      <td>221900</td>\n",
       "    </tr>\n",
       "    <tr>\n",
       "      <th>1</th>\n",
       "      <td>-0.398737</td>\n",
       "      <td>0.175607</td>\n",
       "      <td>0.709342</td>\n",
       "      <td>0.936506</td>\n",
       "      <td>-0.629187</td>\n",
       "      <td>-0.681079</td>\n",
       "      <td>538000</td>\n",
       "    </tr>\n",
       "    <tr>\n",
       "      <th>2</th>\n",
       "      <td>-1.473959</td>\n",
       "      <td>-1.447464</td>\n",
       "      <td>-2.127944</td>\n",
       "      <td>-0.915427</td>\n",
       "      <td>-0.629187</td>\n",
       "      <td>-1.293892</td>\n",
       "      <td>180000</td>\n",
       "    </tr>\n",
       "    <tr>\n",
       "      <th>3</th>\n",
       "      <td>0.676485</td>\n",
       "      <td>1.149449</td>\n",
       "      <td>0.071481</td>\n",
       "      <td>-0.915427</td>\n",
       "      <td>2.444294</td>\n",
       "      <td>-0.204446</td>\n",
       "      <td>604000</td>\n",
       "    </tr>\n",
       "    <tr>\n",
       "      <th>4</th>\n",
       "      <td>-0.398737</td>\n",
       "      <td>-0.149007</td>\n",
       "      <td>-0.291399</td>\n",
       "      <td>-0.915427</td>\n",
       "      <td>-0.629187</td>\n",
       "      <td>0.544548</td>\n",
       "      <td>510000</td>\n",
       "    </tr>\n",
       "  </tbody>\n",
       "</table>\n",
       "</div>"
      ],
      "text/plain": [
       "   bedrooms  bathrooms  sqft_living    floors  condition  yr_built   price\n",
       "0 -0.398737  -1.447464    -1.123042 -0.915427  -0.629187 -0.544898  221900\n",
       "1 -0.398737   0.175607     0.709342  0.936506  -0.629187 -0.681079  538000\n",
       "2 -1.473959  -1.447464    -2.127944 -0.915427  -0.629187 -1.293892  180000\n",
       "3  0.676485   1.149449     0.071481 -0.915427   2.444294 -0.204446  604000\n",
       "4 -0.398737  -0.149007    -0.291399 -0.915427  -0.629187  0.544548  510000"
      ]
     },
     "execution_count": 67,
     "metadata": {},
     "output_type": "execute_result"
    }
   ],
   "source": [
    "no_outliers_z_df = no_outliers_z_df.join(df['price'], how = 'left')\n",
    "no_outliers_z_df.head()"
   ]
  },
  {
   "cell_type": "code",
   "execution_count": 55,
   "metadata": {},
   "outputs": [
    {
     "data": {
      "text/plain": [
       "(21613, 6)"
      ]
     },
     "execution_count": 55,
     "metadata": {},
     "output_type": "execute_result"
    }
   ],
   "source": [
    "no_outliers_z_df"
   ]
  },
  {
   "cell_type": "code",
   "execution_count": 96,
   "metadata": {},
   "outputs": [
    {
     "data": {
      "text/plain": [
       "<matplotlib.axes._subplots.AxesSubplot at 0x1c236ada90>"
      ]
     },
     "execution_count": 96,
     "metadata": {},
     "output_type": "execute_result"
    },
    {
     "data": {
      "image/png": "[encoded data removed]",
      "text/plain": [
       "<Figure size 432x288 with 1 Axes>"
      ]
     },
     "metadata": {
      "needs_background": "light"
     },
     "output_type": "display_data"
    }
   ],
   "source": [
    "no_outliers_z_df.boxplot()"
   ]
  },
  {
   "cell_type": "code",
   "execution_count": 97,
   "metadata": {},
   "outputs": [
    {
     "data": {
      "text/plain": [
       "(20166, 7)"
      ]
     },
     "execution_count": 97,
     "metadata": {},
     "output_type": "execute_result"
    }
   ],
   "source": [
    "no_outliers_z_df.shape"
   ]
  },
  {
   "cell_type": "code",
   "execution_count": 171,
   "metadata": {},
   "outputs": [
    {
     "data": {
      "text/html": [
       "<div>\n",
       "<style scoped>\n",
       "    .dataframe tbody tr th:only-of-type {\n",
       "        vertical-align: middle;\n",
       "    }\n",
       "\n",
       "    .dataframe tbody tr th {\n",
       "        vertical-align: top;\n",
       "    }\n",
       "\n",
       "    .dataframe thead th {\n",
       "        text-align: right;\n",
       "    }\n",
       "</style>\n",
       "<table border=\"1\" class=\"dataframe\">\n",
       "  <thead>\n",
       "    <tr style=\"text-align: right;\">\n",
       "      <th></th>\n",
       "      <th>price</th>\n",
       "    </tr>\n",
       "  </thead>\n",
       "  <tbody>\n",
       "    <tr>\n",
       "      <th>0</th>\n",
       "      <td>-0.957901</td>\n",
       "    </tr>\n",
       "    <tr>\n",
       "      <th>1</th>\n",
       "      <td>0.049151</td>\n",
       "    </tr>\n",
       "    <tr>\n",
       "      <th>2</th>\n",
       "      <td>-1.091388</td>\n",
       "    </tr>\n",
       "    <tr>\n",
       "      <th>3</th>\n",
       "      <td>0.259417</td>\n",
       "    </tr>\n",
       "    <tr>\n",
       "      <th>4</th>\n",
       "      <td>-0.040054</td>\n",
       "    </tr>\n",
       "  </tbody>\n",
       "</table>\n",
       "</div>"
      ],
      "text/plain": [
       "      price\n",
       "0 -0.957901\n",
       "1  0.049151\n",
       "2 -1.091388\n",
       "3  0.259417\n",
       "4 -0.040054"
      ]
     },
     "execution_count": 171,
     "metadata": {},
     "output_type": "execute_result"
    }
   ],
   "source": [
    "price_df.head()"
   ]
  },
  {
   "cell_type": "code",
   "execution_count": 182,
   "metadata": {},
   "outputs": [
    {
     "data": {
      "text/plain": [
       "<matplotlib.axes._subplots.AxesSubplot at 0x1c284e91d0>"
      ]
     },
     "execution_count": 182,
     "metadata": {},
     "output_type": "execute_result"
    },
    {
     "data": {
      "image/png": "[encoded data removed]",
      "text/plain": [
       "<Figure size 432x288 with 1 Axes>"
      ]
     },
     "metadata": {
      "needs_background": "light"
     },
     "output_type": "display_data"
    }
   ],
   "source": [
    "price_df = pd.DataFrame(no_outliers_z_df['price'])\n",
    "price_df = np.log(price_df)\n",
    "price_df.boxplot()"
   ]
  },
  {
   "cell_type": "code",
   "execution_count": 185,
   "metadata": {},
   "outputs": [],
   "source": [
    "price_df = pd.DataFrame(stats.zscore(price_df), columns = price_df.columns)\n",
    "no_outliers_price_df =  price_df[(np.abs(price_df) <= 2.5).all(axis=1)]"
   ]
  },
  {
   "cell_type": "code",
   "execution_count": 186,
   "metadata": {},
   "outputs": [
    {
     "data": {
      "text/plain": [
       "(19828, 1)"
      ]
     },
     "execution_count": 186,
     "metadata": {},
     "output_type": "execute_result"
    }
   ],
   "source": [
    "no_outliers_price_df.shape"
   ]
  },
  {
   "cell_type": "code",
   "execution_count": 187,
   "metadata": {},
   "outputs": [
    {
     "data": {
      "text/plain": [
       "<matplotlib.axes._subplots.AxesSubplot at 0x1c284e9f28>"
      ]
     },
     "execution_count": 187,
     "metadata": {},
     "output_type": "execute_result"
    },
    {
     "data": {
      "image/png": "[encoded data removed]",
      "text/plain": [
       "<Figure size 432x288 with 1 Axes>"
      ]
     },
     "metadata": {
      "needs_background": "light"
     },
     "output_type": "display_data"
    }
   ],
   "source": [
    "no_outliers_price_df.boxplot()"
   ]
  },
  {
   "cell_type": "code",
   "execution_count": 188,
   "metadata": {},
   "outputs": [
    {
     "data": {
      "text/plain": [
       "(20166, 7)"
      ]
     },
     "execution_count": 188,
     "metadata": {},
     "output_type": "execute_result"
    }
   ],
   "source": [
    "no_outliers_z_df.shape"
   ]
  },
  {
   "cell_type": "code",
   "execution_count": 198,
   "metadata": {},
   "outputs": [
    {
     "data": {
      "text/plain": [
       "0    12.309982\n",
       "1    13.195614\n",
       "2    12.100712\n",
       "3    13.311329\n",
       "4    13.142166\n",
       "Name: price, dtype: float64"
      ]
     },
     "execution_count": 198,
     "metadata": {},
     "output_type": "execute_result"
    }
   ],
   "source": [
    "np.log(no_outliers_z_df['price']).head()"
   ]
  },
  {
   "cell_type": "code",
   "execution_count": 193,
   "metadata": {},
   "outputs": [
    {
     "data": {
      "text/html": [
       "<div>\n",
       "<style scoped>\n",
       "    .dataframe tbody tr th:only-of-type {\n",
       "        vertical-align: middle;\n",
       "    }\n",
       "\n",
       "    .dataframe tbody tr th {\n",
       "        vertical-align: top;\n",
       "    }\n",
       "\n",
       "    .dataframe thead th {\n",
       "        text-align: right;\n",
       "    }\n",
       "</style>\n",
       "<table border=\"1\" class=\"dataframe\">\n",
       "  <thead>\n",
       "    <tr style=\"text-align: right;\">\n",
       "      <th></th>\n",
       "      <th>bedrooms</th>\n",
       "      <th>bathrooms</th>\n",
       "      <th>sqft_living</th>\n",
       "      <th>floors</th>\n",
       "      <th>condition</th>\n",
       "      <th>yr_built</th>\n",
       "      <th>price_x</th>\n",
       "      <th>price_y</th>\n",
       "    </tr>\n",
       "  </thead>\n",
       "  <tbody>\n",
       "    <tr>\n",
       "      <th>0</th>\n",
       "      <td>-0.398737</td>\n",
       "      <td>-1.447464</td>\n",
       "      <td>-1.123042</td>\n",
       "      <td>-0.915427</td>\n",
       "      <td>-0.629187</td>\n",
       "      <td>-0.544898</td>\n",
       "      <td>221900.0</td>\n",
       "      <td>-1.425685</td>\n",
       "    </tr>\n",
       "    <tr>\n",
       "      <th>1</th>\n",
       "      <td>-0.398737</td>\n",
       "      <td>0.175607</td>\n",
       "      <td>0.709342</td>\n",
       "      <td>0.936506</td>\n",
       "      <td>-0.629187</td>\n",
       "      <td>-0.681079</td>\n",
       "      <td>538000.0</td>\n",
       "      <td>0.325525</td>\n",
       "    </tr>\n",
       "    <tr>\n",
       "      <th>2</th>\n",
       "      <td>-1.473959</td>\n",
       "      <td>-1.447464</td>\n",
       "      <td>-2.127944</td>\n",
       "      <td>-0.915427</td>\n",
       "      <td>-0.629187</td>\n",
       "      <td>-1.293892</td>\n",
       "      <td>180000.0</td>\n",
       "      <td>-1.839487</td>\n",
       "    </tr>\n",
       "    <tr>\n",
       "      <th>3</th>\n",
       "      <td>0.676485</td>\n",
       "      <td>1.149449</td>\n",
       "      <td>0.071481</td>\n",
       "      <td>-0.915427</td>\n",
       "      <td>2.444294</td>\n",
       "      <td>-0.204446</td>\n",
       "      <td>604000.0</td>\n",
       "      <td>0.554336</td>\n",
       "    </tr>\n",
       "    <tr>\n",
       "      <th>4</th>\n",
       "      <td>-0.398737</td>\n",
       "      <td>-0.149007</td>\n",
       "      <td>-0.291399</td>\n",
       "      <td>-0.915427</td>\n",
       "      <td>-0.629187</td>\n",
       "      <td>0.544548</td>\n",
       "      <td>510000.0</td>\n",
       "      <td>0.219839</td>\n",
       "    </tr>\n",
       "    <tr>\n",
       "      <th>5</th>\n",
       "      <td>NaN</td>\n",
       "      <td>NaN</td>\n",
       "      <td>NaN</td>\n",
       "      <td>NaN</td>\n",
       "      <td>NaN</td>\n",
       "      <td>NaN</td>\n",
       "      <td>NaN</td>\n",
       "      <td>-1.131469</td>\n",
       "    </tr>\n",
       "    <tr>\n",
       "      <th>6</th>\n",
       "      <td>-0.398737</td>\n",
       "      <td>0.175607</td>\n",
       "      <td>-0.242860</td>\n",
       "      <td>0.936506</td>\n",
       "      <td>-0.629187</td>\n",
       "      <td>0.816910</td>\n",
       "      <td>257500.0</td>\n",
       "      <td>-0.883864</td>\n",
       "    </tr>\n",
       "    <tr>\n",
       "      <th>7</th>\n",
       "      <td>-0.398737</td>\n",
       "      <td>-0.798235</td>\n",
       "      <td>-1.375505</td>\n",
       "      <td>-0.915427</td>\n",
       "      <td>-0.629187</td>\n",
       "      <td>-0.272536</td>\n",
       "      <td>291850.0</td>\n",
       "      <td>-1.359095</td>\n",
       "    </tr>\n",
       "    <tr>\n",
       "      <th>8</th>\n",
       "      <td>-0.398737</td>\n",
       "      <td>-1.447464</td>\n",
       "      <td>-0.155288</td>\n",
       "      <td>-0.915427</td>\n",
       "      <td>-0.629187</td>\n",
       "      <td>-0.374672</td>\n",
       "      <td>229500.0</td>\n",
       "      <td>-0.683335</td>\n",
       "    </tr>\n",
       "    <tr>\n",
       "      <th>9</th>\n",
       "      <td>-0.398737</td>\n",
       "      <td>0.500221</td>\n",
       "      <td>-0.014131</td>\n",
       "      <td>0.936506</td>\n",
       "      <td>-0.629187</td>\n",
       "      <td>1.089271</td>\n",
       "      <td>323000.0</td>\n",
       "      <td>0.737135</td>\n",
       "    </tr>\n",
       "    <tr>\n",
       "      <th>10</th>\n",
       "      <td>-0.398737</td>\n",
       "      <td>0.500221</td>\n",
       "      <td>1.476425</td>\n",
       "      <td>-0.915427</td>\n",
       "      <td>-0.629187</td>\n",
       "      <td>-0.204446</td>\n",
       "      <td>662500.0</td>\n",
       "      <td>0.049900</td>\n",
       "    </tr>\n",
       "    <tr>\n",
       "      <th>11</th>\n",
       "      <td>-1.473959</td>\n",
       "      <td>-1.447464</td>\n",
       "      <td>-1.163284</td>\n",
       "      <td>-0.915427</td>\n",
       "      <td>0.907554</td>\n",
       "      <td>-0.987485</td>\n",
       "      <td>468000.0</td>\n",
       "      <td>-0.764565</td>\n",
       "    </tr>\n",
       "    <tr>\n",
       "      <th>12</th>\n",
       "      <td>-0.398737</td>\n",
       "      <td>-1.447464</td>\n",
       "      <td>-0.670685</td>\n",
       "      <td>0.010539</td>\n",
       "      <td>0.907554</td>\n",
       "      <td>-1.498163</td>\n",
       "      <td>310000.0</td>\n",
       "      <td>-0.260552</td>\n",
       "    </tr>\n",
       "    <tr>\n",
       "      <th>13</th>\n",
       "      <td>-0.398737</td>\n",
       "      <td>-0.473621</td>\n",
       "      <td>-0.771589</td>\n",
       "      <td>-0.915427</td>\n",
       "      <td>0.907554</td>\n",
       "      <td>0.204096</td>\n",
       "      <td>400000.0</td>\n",
       "      <td>0.295901</td>\n",
       "    </tr>\n",
       "    <tr>\n",
       "      <th>14</th>\n",
       "      <td>1.751707</td>\n",
       "      <td>-0.149007</td>\n",
       "      <td>-0.115944</td>\n",
       "      <td>0.010539</td>\n",
       "      <td>-0.629187</td>\n",
       "      <td>-2.417383</td>\n",
       "      <td>530000.0</td>\n",
       "      <td>0.699470</td>\n",
       "    </tr>\n",
       "    <tr>\n",
       "      <th>15</th>\n",
       "      <td>0.676485</td>\n",
       "      <td>1.149449</td>\n",
       "      <td>1.033966</td>\n",
       "      <td>0.936506</td>\n",
       "      <td>-0.629187</td>\n",
       "      <td>0.272187</td>\n",
       "      <td>650000.0</td>\n",
       "      <td>-0.285425</td>\n",
       "    </tr>\n",
       "    <tr>\n",
       "      <th>16</th>\n",
       "      <td>-0.398737</td>\n",
       "      <td>-0.149007</td>\n",
       "      <td>-0.014131</td>\n",
       "      <td>0.936506</td>\n",
       "      <td>-0.629187</td>\n",
       "      <td>0.782864</td>\n",
       "      <td>395000.0</td>\n",
       "      <td>0.120454</td>\n",
       "    </tr>\n",
       "    <tr>\n",
       "      <th>17</th>\n",
       "      <td>0.676485</td>\n",
       "      <td>-1.447464</td>\n",
       "      <td>-0.406255</td>\n",
       "      <td>0.010539</td>\n",
       "      <td>0.907554</td>\n",
       "      <td>-1.872660</td>\n",
       "      <td>485000.0</td>\n",
       "      <td>-1.743011</td>\n",
       "    </tr>\n",
       "    <tr>\n",
       "      <th>18</th>\n",
       "      <td>-1.473959</td>\n",
       "      <td>-1.447464</td>\n",
       "      <td>-1.083477</td>\n",
       "      <td>-0.915427</td>\n",
       "      <td>0.907554</td>\n",
       "      <td>-1.702434</td>\n",
       "      <td>189000.0</td>\n",
       "      <td>-1.354792</td>\n",
       "    </tr>\n",
       "    <tr>\n",
       "      <th>19</th>\n",
       "      <td>-0.398737</td>\n",
       "      <td>-1.447464</td>\n",
       "      <td>-0.987380</td>\n",
       "      <td>-0.915427</td>\n",
       "      <td>0.907554</td>\n",
       "      <td>-0.068265</td>\n",
       "      <td>230000.0</td>\n",
       "      <td>-0.336129</td>\n",
       "    </tr>\n",
       "    <tr>\n",
       "      <th>21</th>\n",
       "      <td>-0.398737</td>\n",
       "      <td>0.824835</td>\n",
       "      <td>1.112442</td>\n",
       "      <td>-0.915427</td>\n",
       "      <td>-0.629187</td>\n",
       "      <td>-0.102310</td>\n",
       "      <td>2000000.0</td>\n",
       "      <td>-0.930827</td>\n",
       "    </tr>\n",
       "    <tr>\n",
       "      <th>22</th>\n",
       "      <td>1.751707</td>\n",
       "      <td>0.500221</td>\n",
       "      <td>0.417141</td>\n",
       "      <td>0.936506</td>\n",
       "      <td>-0.629187</td>\n",
       "      <td>0.816910</td>\n",
       "      <td>285000.0</td>\n",
       "      <td>-1.168676</td>\n",
       "    </tr>\n",
       "    <tr>\n",
       "      <th>23</th>\n",
       "      <td>-1.473959</td>\n",
       "      <td>-0.798235</td>\n",
       "      <td>-1.353401</td>\n",
       "      <td>-0.915427</td>\n",
       "      <td>-0.629187</td>\n",
       "      <td>0.476458</td>\n",
       "      <td>252700.0</td>\n",
       "      <td>-0.646941</td>\n",
       "    </tr>\n",
       "    <tr>\n",
       "      <th>24</th>\n",
       "      <td>-0.398737</td>\n",
       "      <td>0.175607</td>\n",
       "      <td>0.596776</td>\n",
       "      <td>0.936506</td>\n",
       "      <td>0.907554</td>\n",
       "      <td>0.476458</td>\n",
       "      <td>329000.0</td>\n",
       "      <td>-1.329167</td>\n",
       "    </tr>\n",
       "    <tr>\n",
       "      <th>25</th>\n",
       "      <td>-0.398737</td>\n",
       "      <td>-0.149007</td>\n",
       "      <td>-0.249734</td>\n",
       "      <td>0.010539</td>\n",
       "      <td>2.444294</td>\n",
       "      <td>-1.021530</td>\n",
       "      <td>233000.0</td>\n",
       "      <td>1.422611</td>\n",
       "    </tr>\n",
       "    <tr>\n",
       "      <th>26</th>\n",
       "      <td>-0.398737</td>\n",
       "      <td>-0.473621</td>\n",
       "      <td>0.596776</td>\n",
       "      <td>0.936506</td>\n",
       "      <td>-0.629187</td>\n",
       "      <td>-1.906705</td>\n",
       "      <td>937000.0</td>\n",
       "      <td>0.750521</td>\n",
       "    </tr>\n",
       "    <tr>\n",
       "      <th>27</th>\n",
       "      <td>-0.398737</td>\n",
       "      <td>-1.447464</td>\n",
       "      <td>-0.720596</td>\n",
       "      <td>0.010539</td>\n",
       "      <td>2.444294</td>\n",
       "      <td>-2.110976</td>\n",
       "      <td>667000.0</td>\n",
       "      <td>-0.081098</td>\n",
       "    </tr>\n",
       "    <tr>\n",
       "      <th>28</th>\n",
       "      <td>-0.398737</td>\n",
       "      <td>-0.473621</td>\n",
       "      <td>-0.527003</td>\n",
       "      <td>-0.915427</td>\n",
       "      <td>-0.629187</td>\n",
       "      <td>-0.783214</td>\n",
       "      <td>438000.0</td>\n",
       "      <td>0.898964</td>\n",
       "    </tr>\n",
       "    <tr>\n",
       "      <th>29</th>\n",
       "      <td>0.676485</td>\n",
       "      <td>0.500221</td>\n",
       "      <td>0.709342</td>\n",
       "      <td>0.936506</td>\n",
       "      <td>-0.629187</td>\n",
       "      <td>1.157361</td>\n",
       "      <td>719000.0</td>\n",
       "      <td>0.475865</td>\n",
       "    </tr>\n",
       "    <tr>\n",
       "      <th>30</th>\n",
       "      <td>-0.398737</td>\n",
       "      <td>0.500221</td>\n",
       "      <td>0.468430</td>\n",
       "      <td>0.936506</td>\n",
       "      <td>-0.629187</td>\n",
       "      <td>1.089271</td>\n",
       "      <td>580500.0</td>\n",
       "      <td>0.810379</td>\n",
       "    </tr>\n",
       "    <tr>\n",
       "      <th>...</th>\n",
       "      <td>...</td>\n",
       "      <td>...</td>\n",
       "      <td>...</td>\n",
       "      <td>...</td>\n",
       "      <td>...</td>\n",
       "      <td>...</td>\n",
       "      <td>...</td>\n",
       "      <td>...</td>\n",
       "    </tr>\n",
       "    <tr>\n",
       "      <th>20136</th>\n",
       "      <td>NaN</td>\n",
       "      <td>NaN</td>\n",
       "      <td>NaN</td>\n",
       "      <td>NaN</td>\n",
       "      <td>NaN</td>\n",
       "      <td>NaN</td>\n",
       "      <td>NaN</td>\n",
       "      <td>-0.260799</td>\n",
       "    </tr>\n",
       "    <tr>\n",
       "      <th>20137</th>\n",
       "      <td>-0.398737</td>\n",
       "      <td>0.500221</td>\n",
       "      <td>0.300211</td>\n",
       "      <td>0.936506</td>\n",
       "      <td>-0.629187</td>\n",
       "      <td>1.463768</td>\n",
       "      <td>629000.0</td>\n",
       "      <td>0.470749</td>\n",
       "    </tr>\n",
       "    <tr>\n",
       "      <th>20138</th>\n",
       "      <td>0.676485</td>\n",
       "      <td>0.500221</td>\n",
       "      <td>0.321908</td>\n",
       "      <td>0.936506</td>\n",
       "      <td>-0.629187</td>\n",
       "      <td>1.463768</td>\n",
       "      <td>734000.0</td>\n",
       "      <td>-0.455203</td>\n",
       "    </tr>\n",
       "    <tr>\n",
       "      <th>20139</th>\n",
       "      <td>-0.398737</td>\n",
       "      <td>0.175607</td>\n",
       "      <td>-0.573929</td>\n",
       "      <td>0.936506</td>\n",
       "      <td>-0.629187</td>\n",
       "      <td>1.327587</td>\n",
       "      <td>309000.0</td>\n",
       "      <td>0.684201</td>\n",
       "    </tr>\n",
       "    <tr>\n",
       "      <th>20140</th>\n",
       "      <td>-0.398737</td>\n",
       "      <td>0.500221</td>\n",
       "      <td>1.033966</td>\n",
       "      <td>0.936506</td>\n",
       "      <td>-0.629187</td>\n",
       "      <td>1.191407</td>\n",
       "      <td>554950.0</td>\n",
       "      <td>0.524205</td>\n",
       "    </tr>\n",
       "    <tr>\n",
       "      <th>20141</th>\n",
       "      <td>-0.398737</td>\n",
       "      <td>0.824835</td>\n",
       "      <td>1.065671</td>\n",
       "      <td>0.936506</td>\n",
       "      <td>-0.629187</td>\n",
       "      <td>0.987135</td>\n",
       "      <td>785000.0</td>\n",
       "      <td>0.621917</td>\n",
       "    </tr>\n",
       "    <tr>\n",
       "      <th>20142</th>\n",
       "      <td>0.676485</td>\n",
       "      <td>0.500221</td>\n",
       "      <td>0.825506</td>\n",
       "      <td>0.936506</td>\n",
       "      <td>-0.629187</td>\n",
       "      <td>1.225452</td>\n",
       "      <td>550000.0</td>\n",
       "      <td>0.140734</td>\n",
       "    </tr>\n",
       "    <tr>\n",
       "      <th>20143</th>\n",
       "      <td>NaN</td>\n",
       "      <td>NaN</td>\n",
       "      <td>NaN</td>\n",
       "      <td>NaN</td>\n",
       "      <td>NaN</td>\n",
       "      <td>NaN</td>\n",
       "      <td>NaN</td>\n",
       "      <td>-0.260799</td>\n",
       "    </tr>\n",
       "    <tr>\n",
       "      <th>20144</th>\n",
       "      <td>-0.398737</td>\n",
       "      <td>-0.149007</td>\n",
       "      <td>1.515770</td>\n",
       "      <td>0.936506</td>\n",
       "      <td>-0.629187</td>\n",
       "      <td>1.225452</td>\n",
       "      <td>1575000.0</td>\n",
       "      <td>-0.361977</td>\n",
       "    </tr>\n",
       "    <tr>\n",
       "      <th>20145</th>\n",
       "      <td>1.751707</td>\n",
       "      <td>0.824835</td>\n",
       "      <td>0.626375</td>\n",
       "      <td>0.936506</td>\n",
       "      <td>-0.629187</td>\n",
       "      <td>1.463768</td>\n",
       "      <td>309000.0</td>\n",
       "      <td>-1.037737</td>\n",
       "    </tr>\n",
       "    <tr>\n",
       "      <th>20146</th>\n",
       "      <td>-0.398737</td>\n",
       "      <td>0.500221</td>\n",
       "      <td>-0.222360</td>\n",
       "      <td>0.936506</td>\n",
       "      <td>-0.629187</td>\n",
       "      <td>1.463768</td>\n",
       "      <td>328423.0</td>\n",
       "      <td>-0.190142</td>\n",
       "    </tr>\n",
       "    <tr>\n",
       "      <th>20147</th>\n",
       "      <td>-0.398737</td>\n",
       "      <td>-0.798235</td>\n",
       "      <td>-0.687205</td>\n",
       "      <td>0.936506</td>\n",
       "      <td>-0.629187</td>\n",
       "      <td>1.259497</td>\n",
       "      <td>345000.0</td>\n",
       "      <td>-0.538766</td>\n",
       "    </tr>\n",
       "    <tr>\n",
       "      <th>20148</th>\n",
       "      <td>1.751707</td>\n",
       "      <td>1.798677</td>\n",
       "      <td>1.195848</td>\n",
       "      <td>0.936506</td>\n",
       "      <td>-0.629187</td>\n",
       "      <td>1.463768</td>\n",
       "      <td>660000.0</td>\n",
       "      <td>1.948528</td>\n",
       "    </tr>\n",
       "    <tr>\n",
       "      <th>20149</th>\n",
       "      <td>-0.398737</td>\n",
       "      <td>1.474063</td>\n",
       "      <td>-0.859111</td>\n",
       "      <td>0.936506</td>\n",
       "      <td>-0.629187</td>\n",
       "      <td>1.259497</td>\n",
       "      <td>385000.0</td>\n",
       "      <td>0.446698</td>\n",
       "    </tr>\n",
       "    <tr>\n",
       "      <th>20150</th>\n",
       "      <td>-1.473959</td>\n",
       "      <td>0.175607</td>\n",
       "      <td>-1.489250</td>\n",
       "      <td>0.936506</td>\n",
       "      <td>-0.629187</td>\n",
       "      <td>1.191407</td>\n",
       "      <td>459000.0</td>\n",
       "      <td>1.718054</td>\n",
       "    </tr>\n",
       "    <tr>\n",
       "      <th>20151</th>\n",
       "      <td>-0.398737</td>\n",
       "      <td>0.500221</td>\n",
       "      <td>-0.039174</td>\n",
       "      <td>0.936506</td>\n",
       "      <td>-0.629187</td>\n",
       "      <td>1.225452</td>\n",
       "      <td>248000.0</td>\n",
       "      <td>-0.524591</td>\n",
       "    </tr>\n",
       "    <tr>\n",
       "      <th>20152</th>\n",
       "      <td>0.676485</td>\n",
       "      <td>1.798677</td>\n",
       "      <td>2.377413</td>\n",
       "      <td>0.936506</td>\n",
       "      <td>-0.629187</td>\n",
       "      <td>1.191407</td>\n",
       "      <td>1481000.0</td>\n",
       "      <td>0.788544</td>\n",
       "    </tr>\n",
       "    <tr>\n",
       "      <th>20153</th>\n",
       "      <td>0.676485</td>\n",
       "      <td>0.500221</td>\n",
       "      <td>0.406748</td>\n",
       "      <td>0.936506</td>\n",
       "      <td>-0.629187</td>\n",
       "      <td>1.361632</td>\n",
       "      <td>379000.0</td>\n",
       "      <td>2.449506</td>\n",
       "    </tr>\n",
       "    <tr>\n",
       "      <th>20154</th>\n",
       "      <td>NaN</td>\n",
       "      <td>NaN</td>\n",
       "      <td>NaN</td>\n",
       "      <td>NaN</td>\n",
       "      <td>NaN</td>\n",
       "      <td>NaN</td>\n",
       "      <td>NaN</td>\n",
       "      <td>0.339442</td>\n",
       "    </tr>\n",
       "    <tr>\n",
       "      <th>20155</th>\n",
       "      <td>-1.473959</td>\n",
       "      <td>0.175607</td>\n",
       "      <td>-0.377011</td>\n",
       "      <td>0.936506</td>\n",
       "      <td>-0.629187</td>\n",
       "      <td>1.123316</td>\n",
       "      <td>395000.0</td>\n",
       "      <td>1.134611</td>\n",
       "    </tr>\n",
       "    <tr>\n",
       "      <th>20156</th>\n",
       "      <td>-0.398737</td>\n",
       "      <td>0.500221</td>\n",
       "      <td>0.427489</td>\n",
       "      <td>0.936506</td>\n",
       "      <td>-0.629187</td>\n",
       "      <td>1.191407</td>\n",
       "      <td>535000.0</td>\n",
       "      <td>2.401214</td>\n",
       "    </tr>\n",
       "    <tr>\n",
       "      <th>20157</th>\n",
       "      <td>1.751707</td>\n",
       "      <td>1.798677</td>\n",
       "      <td>1.368173</td>\n",
       "      <td>0.936506</td>\n",
       "      <td>-0.629187</td>\n",
       "      <td>1.259497</td>\n",
       "      <td>970000.0</td>\n",
       "      <td>-1.407060</td>\n",
       "    </tr>\n",
       "    <tr>\n",
       "      <th>20158</th>\n",
       "      <td>-1.473959</td>\n",
       "      <td>-0.798235</td>\n",
       "      <td>-1.951306</td>\n",
       "      <td>0.936506</td>\n",
       "      <td>-0.629187</td>\n",
       "      <td>1.191407</td>\n",
       "      <td>205000.0</td>\n",
       "      <td>0.209148</td>\n",
       "    </tr>\n",
       "    <tr>\n",
       "      <th>20159</th>\n",
       "      <td>0.676485</td>\n",
       "      <td>0.500221</td>\n",
       "      <td>0.458261</td>\n",
       "      <td>0.936506</td>\n",
       "      <td>-0.629187</td>\n",
       "      <td>1.327587</td>\n",
       "      <td>310000.0</td>\n",
       "      <td>0.576101</td>\n",
       "    </tr>\n",
       "    <tr>\n",
       "      <th>20160</th>\n",
       "      <td>-1.473959</td>\n",
       "      <td>-0.798235</td>\n",
       "      <td>-1.951306</td>\n",
       "      <td>0.936506</td>\n",
       "      <td>-0.629187</td>\n",
       "      <td>1.157361</td>\n",
       "      <td>334500.0</td>\n",
       "      <td>1.566056</td>\n",
       "    </tr>\n",
       "    <tr>\n",
       "      <th>20161</th>\n",
       "      <td>1.751707</td>\n",
       "      <td>1.474063</td>\n",
       "      <td>1.826044</td>\n",
       "      <td>0.936506</td>\n",
       "      <td>-0.629187</td>\n",
       "      <td>1.395678</td>\n",
       "      <td>995000.0</td>\n",
       "      <td>0.079257</td>\n",
       "    </tr>\n",
       "    <tr>\n",
       "      <th>20162</th>\n",
       "      <td>0.676485</td>\n",
       "      <td>1.149449</td>\n",
       "      <td>0.177168</td>\n",
       "      <td>0.936506</td>\n",
       "      <td>-0.629187</td>\n",
       "      <td>1.463768</td>\n",
       "      <td>370228.0</td>\n",
       "      <td>-0.260552</td>\n",
       "    </tr>\n",
       "    <tr>\n",
       "      <th>20163</th>\n",
       "      <td>0.676485</td>\n",
       "      <td>0.500221</td>\n",
       "      <td>0.177168</td>\n",
       "      <td>0.936506</td>\n",
       "      <td>-0.629187</td>\n",
       "      <td>1.463768</td>\n",
       "      <td>383000.0</td>\n",
       "      <td>-0.250193</td>\n",
       "    </tr>\n",
       "    <tr>\n",
       "      <th>20164</th>\n",
       "      <td>-0.398737</td>\n",
       "      <td>0.500221</td>\n",
       "      <td>-0.406255</td>\n",
       "      <td>0.936506</td>\n",
       "      <td>-0.629187</td>\n",
       "      <td>1.157361</td>\n",
       "      <td>384500.0</td>\n",
       "      <td>-0.260552</td>\n",
       "    </tr>\n",
       "    <tr>\n",
       "      <th>20165</th>\n",
       "      <td>1.751707</td>\n",
       "      <td>0.500221</td>\n",
       "      <td>1.218091</td>\n",
       "      <td>0.936506</td>\n",
       "      <td>-0.629187</td>\n",
       "      <td>1.463768</td>\n",
       "      <td>865000.0</td>\n",
       "      <td>-0.671129</td>\n",
       "    </tr>\n",
       "  </tbody>\n",
       "</table>\n",
       "<p>19828 rows × 8 columns</p>\n",
       "</div>"
      ],
      "text/plain": [
       "       bedrooms  bathrooms  sqft_living    floors  condition  yr_built  \\\n",
       "0     -0.398737  -1.447464    -1.123042 -0.915427  -0.629187 -0.544898   \n",
       "1     -0.398737   0.175607     0.709342  0.936506  -0.629187 -0.681079   \n",
       "2     -1.473959  -1.447464    -2.127944 -0.915427  -0.629187 -1.293892   \n",
       "3      0.676485   1.149449     0.071481 -0.915427   2.444294 -0.204446   \n",
       "4     -0.398737  -0.149007    -0.291399 -0.915427  -0.629187  0.544548   \n",
       "5           NaN        NaN          NaN       NaN        NaN       NaN   \n",
       "6     -0.398737   0.175607    -0.242860  0.936506  -0.629187  0.816910   \n",
       "7     -0.398737  -0.798235    -1.375505 -0.915427  -0.629187 -0.272536   \n",
       "8     -0.398737  -1.447464    -0.155288 -0.915427  -0.629187 -0.374672   \n",
       "9     -0.398737   0.500221    -0.014131  0.936506  -0.629187  1.089271   \n",
       "10    -0.398737   0.500221     1.476425 -0.915427  -0.629187 -0.204446   \n",
       "11    -1.473959  -1.447464    -1.163284 -0.915427   0.907554 -0.987485   \n",
       "12    -0.398737  -1.447464    -0.670685  0.010539   0.907554 -1.498163   \n",
       "13    -0.398737  -0.473621    -0.771589 -0.915427   0.907554  0.204096   \n",
       "14     1.751707  -0.149007    -0.115944  0.010539  -0.629187 -2.417383   \n",
       "15     0.676485   1.149449     1.033966  0.936506  -0.629187  0.272187   \n",
       "16    -0.398737  -0.149007    -0.014131  0.936506  -0.629187  0.782864   \n",
       "17     0.676485  -1.447464    -0.406255  0.010539   0.907554 -1.872660   \n",
       "18    -1.473959  -1.447464    -1.083477 -0.915427   0.907554 -1.702434   \n",
       "19    -0.398737  -1.447464    -0.987380 -0.915427   0.907554 -0.068265   \n",
       "21    -0.398737   0.824835     1.112442 -0.915427  -0.629187 -0.102310   \n",
       "22     1.751707   0.500221     0.417141  0.936506  -0.629187  0.816910   \n",
       "23    -1.473959  -0.798235    -1.353401 -0.915427  -0.629187  0.476458   \n",
       "24    -0.398737   0.175607     0.596776  0.936506   0.907554  0.476458   \n",
       "25    -0.398737  -0.149007    -0.249734  0.010539   2.444294 -1.021530   \n",
       "26    -0.398737  -0.473621     0.596776  0.936506  -0.629187 -1.906705   \n",
       "27    -0.398737  -1.447464    -0.720596  0.010539   2.444294 -2.110976   \n",
       "28    -0.398737  -0.473621    -0.527003 -0.915427  -0.629187 -0.783214   \n",
       "29     0.676485   0.500221     0.709342  0.936506  -0.629187  1.157361   \n",
       "30    -0.398737   0.500221     0.468430  0.936506  -0.629187  1.089271   \n",
       "...         ...        ...          ...       ...        ...       ...   \n",
       "20136       NaN        NaN          NaN       NaN        NaN       NaN   \n",
       "20137 -0.398737   0.500221     0.300211  0.936506  -0.629187  1.463768   \n",
       "20138  0.676485   0.500221     0.321908  0.936506  -0.629187  1.463768   \n",
       "20139 -0.398737   0.175607    -0.573929  0.936506  -0.629187  1.327587   \n",
       "20140 -0.398737   0.500221     1.033966  0.936506  -0.629187  1.191407   \n",
       "20141 -0.398737   0.824835     1.065671  0.936506  -0.629187  0.987135   \n",
       "20142  0.676485   0.500221     0.825506  0.936506  -0.629187  1.225452   \n",
       "20143       NaN        NaN          NaN       NaN        NaN       NaN   \n",
       "20144 -0.398737  -0.149007     1.515770  0.936506  -0.629187  1.225452   \n",
       "20145  1.751707   0.824835     0.626375  0.936506  -0.629187  1.463768   \n",
       "20146 -0.398737   0.500221    -0.222360  0.936506  -0.629187  1.463768   \n",
       "20147 -0.398737  -0.798235    -0.687205  0.936506  -0.629187  1.259497   \n",
       "20148  1.751707   1.798677     1.195848  0.936506  -0.629187  1.463768   \n",
       "20149 -0.398737   1.474063    -0.859111  0.936506  -0.629187  1.259497   \n",
       "20150 -1.473959   0.175607    -1.489250  0.936506  -0.629187  1.191407   \n",
       "20151 -0.398737   0.500221    -0.039174  0.936506  -0.629187  1.225452   \n",
       "20152  0.676485   1.798677     2.377413  0.936506  -0.629187  1.191407   \n",
       "20153  0.676485   0.500221     0.406748  0.936506  -0.629187  1.361632   \n",
       "20154       NaN        NaN          NaN       NaN        NaN       NaN   \n",
       "20155 -1.473959   0.175607    -0.377011  0.936506  -0.629187  1.123316   \n",
       "20156 -0.398737   0.500221     0.427489  0.936506  -0.629187  1.191407   \n",
       "20157  1.751707   1.798677     1.368173  0.936506  -0.629187  1.259497   \n",
       "20158 -1.473959  -0.798235    -1.951306  0.936506  -0.629187  1.191407   \n",
       "20159  0.676485   0.500221     0.458261  0.936506  -0.629187  1.327587   \n",
       "20160 -1.473959  -0.798235    -1.951306  0.936506  -0.629187  1.157361   \n",
       "20161  1.751707   1.474063     1.826044  0.936506  -0.629187  1.395678   \n",
       "20162  0.676485   1.149449     0.177168  0.936506  -0.629187  1.463768   \n",
       "20163  0.676485   0.500221     0.177168  0.936506  -0.629187  1.463768   \n",
       "20164 -0.398737   0.500221    -0.406255  0.936506  -0.629187  1.157361   \n",
       "20165  1.751707   0.500221     1.218091  0.936506  -0.629187  1.463768   \n",
       "\n",
       "         price_x   price_y  \n",
       "0       221900.0 -1.425685  \n",
       "1       538000.0  0.325525  \n",
       "2       180000.0 -1.839487  \n",
       "3       604000.0  0.554336  \n",
       "4       510000.0  0.219839  \n",
       "5            NaN -1.131469  \n",
       "6       257500.0 -0.883864  \n",
       "7       291850.0 -1.359095  \n",
       "8       229500.0 -0.683335  \n",
       "9       323000.0  0.737135  \n",
       "10      662500.0  0.049900  \n",
       "11      468000.0 -0.764565  \n",
       "12      310000.0 -0.260552  \n",
       "13      400000.0  0.295901  \n",
       "14      530000.0  0.699470  \n",
       "15      650000.0 -0.285425  \n",
       "16      395000.0  0.120454  \n",
       "17      485000.0 -1.743011  \n",
       "18      189000.0 -1.354792  \n",
       "19      230000.0 -0.336129  \n",
       "21     2000000.0 -0.930827  \n",
       "22      285000.0 -1.168676  \n",
       "23      252700.0 -0.646941  \n",
       "24      329000.0 -1.329167  \n",
       "25      233000.0  1.422611  \n",
       "26      937000.0  0.750521  \n",
       "27      667000.0 -0.081098  \n",
       "28      438000.0  0.898964  \n",
       "29      719000.0  0.475865  \n",
       "30      580500.0  0.810379  \n",
       "...          ...       ...  \n",
       "20136        NaN -0.260799  \n",
       "20137   629000.0  0.470749  \n",
       "20138   734000.0 -0.455203  \n",
       "20139   309000.0  0.684201  \n",
       "20140   554950.0  0.524205  \n",
       "20141   785000.0  0.621917  \n",
       "20142   550000.0  0.140734  \n",
       "20143        NaN -0.260799  \n",
       "20144  1575000.0 -0.361977  \n",
       "20145   309000.0 -1.037737  \n",
       "20146   328423.0 -0.190142  \n",
       "20147   345000.0 -0.538766  \n",
       "20148   660000.0  1.948528  \n",
       "20149   385000.0  0.446698  \n",
       "20150   459000.0  1.718054  \n",
       "20151   248000.0 -0.524591  \n",
       "20152  1481000.0  0.788544  \n",
       "20153   379000.0  2.449506  \n",
       "20154        NaN  0.339442  \n",
       "20155   395000.0  1.134611  \n",
       "20156   535000.0  2.401214  \n",
       "20157   970000.0 -1.407060  \n",
       "20158   205000.0  0.209148  \n",
       "20159   310000.0  0.576101  \n",
       "20160   334500.0  1.566056  \n",
       "20161   995000.0  0.079257  \n",
       "20162   370228.0 -0.260552  \n",
       "20163   383000.0 -0.250193  \n",
       "20164   384500.0 -0.260552  \n",
       "20165   865000.0 -0.671129  \n",
       "\n",
       "[19828 rows x 8 columns]"
      ]
     },
     "execution_count": 193,
     "metadata": {},
     "output_type": "execute_result"
    }
   ],
   "source": [
    "no_outliers_z_df.merge(no_outliers_price_df, right_index = True, left_index = True, how = 'right')"
   ]
  },
  {
   "cell_type": "code",
   "execution_count": null,
   "metadata": {},
   "outputs": [],
   "source": []
  },
  {
   "cell_type": "code",
   "execution_count": 34,
   "metadata": {},
   "outputs": [
    {
     "data": {
      "text/plain": [
       "<matplotlib.axes._subplots.AxesSubplot at 0x1c21b4f400>"
      ]
     },
     "execution_count": 34,
     "metadata": {},
     "output_type": "execute_result"
    },
    {
     "data": {
      "image/png": "[encoded data removed]",
      "text/plain": [
       "<Figure size 432x288 with 1 Axes>"
      ]
     },
     "metadata": {
      "needs_background": "light"
     },
     "output_type": "display_data"
    }
   ],
   "source": [
    "np.log(df[\"price\"]).hist()"
   ]
  },
  {
   "cell_type": "code",
   "execution_count": 35,
   "metadata": {},
   "outputs": [
    {
     "data": {
      "text/plain": [
       "(21613, 11)"
      ]
     },
     "execution_count": 35,
     "metadata": {},
     "output_type": "execute_result"
    }
   ],
   "source": [
    "df.shape"
   ]
  },
  {
   "cell_type": "code",
   "execution_count": 68,
   "metadata": {},
   "outputs": [],
   "source": [
    "X =  no_outliers_z_df[['bedrooms', 'bathrooms', 'sqft_living',\n",
    "       'floors', 'condition', 'yr_built' ]]\n",
    "\n",
    "y = no_outliers_z_df['price']"
   ]
  },
  {
   "cell_type": "code",
   "execution_count": 69,
   "metadata": {},
   "outputs": [],
   "source": [
    "X_train, X_test, y_train, y_test = train_test_split(X,y, test_size = .2)"
   ]
  },
  {
   "cell_type": "code",
   "execution_count": 71,
   "metadata": {},
   "outputs": [
    {
     "data": {
      "text/html": [
       "<table class=\"simpletable\">\n",
       "<caption>OLS Regression Results</caption>\n",
       "<tr>\n",
       "  <th>Dep. Variable:</th>          <td>price</td>      <th>  R-squared:         </th>  <td>   0.440</td>  \n",
       "</tr>\n",
       "<tr>\n",
       "  <th>Model:</th>                   <td>OLS</td>       <th>  Adj. R-squared:    </th>  <td>   0.440</td>  \n",
       "</tr>\n",
       "<tr>\n",
       "  <th>Method:</th>             <td>Least Squares</td>  <th>  F-statistic:       </th>  <td>   2643.</td>  \n",
       "</tr>\n",
       "<tr>\n",
       "  <th>Date:</th>             <td>Mon, 10 Feb 2020</td> <th>  Prob (F-statistic):</th>   <td>  0.00</td>   \n",
       "</tr>\n",
       "<tr>\n",
       "  <th>Time:</th>                 <td>11:48:04</td>     <th>  Log-Likelihood:    </th> <td>-2.7800e+05</td>\n",
       "</tr>\n",
       "<tr>\n",
       "  <th>No. Observations:</th>      <td> 20166</td>      <th>  AIC:               </th>  <td>5.560e+05</td> \n",
       "</tr>\n",
       "<tr>\n",
       "  <th>Df Residuals:</th>          <td> 20159</td>      <th>  BIC:               </th>  <td>5.561e+05</td> \n",
       "</tr>\n",
       "<tr>\n",
       "  <th>Df Model:</th>              <td>     6</td>      <th>                     </th>      <td> </td>     \n",
       "</tr>\n",
       "<tr>\n",
       "  <th>Covariance Type:</th>      <td>nonrobust</td>    <th>                     </th>      <td> </td>     \n",
       "</tr>\n",
       "</table>\n",
       "<table class=\"simpletable\">\n",
       "<tr>\n",
       "       <td></td>          <th>coef</th>     <th>std err</th>      <th>t</th>      <th>P>|t|</th>  <th>[0.025</th>    <th>0.975]</th>  \n",
       "</tr>\n",
       "<tr>\n",
       "  <th>const</th>       <td> 5.268e+05</td> <td> 1666.641</td> <td>  316.106</td> <td> 0.000</td> <td> 5.24e+05</td> <td>  5.3e+05</td>\n",
       "</tr>\n",
       "<tr>\n",
       "  <th>bedrooms</th>    <td>-5.682e+04</td> <td> 2480.118</td> <td>  -22.908</td> <td> 0.000</td> <td>-6.17e+04</td> <td> -5.2e+04</td>\n",
       "</tr>\n",
       "<tr>\n",
       "  <th>bathrooms</th>   <td> 6.916e+04</td> <td> 3156.498</td> <td>   21.912</td> <td> 0.000</td> <td>  6.3e+04</td> <td> 7.54e+04</td>\n",
       "</tr>\n",
       "<tr>\n",
       "  <th>sqft_living</th> <td> 2.098e+05</td> <td> 2972.231</td> <td>   70.573</td> <td> 0.000</td> <td> 2.04e+05</td> <td> 2.16e+05</td>\n",
       "</tr>\n",
       "<tr>\n",
       "  <th>floors</th>      <td> 2.631e+04</td> <td> 2325.697</td> <td>   11.312</td> <td> 0.000</td> <td> 2.17e+04</td> <td> 3.09e+04</td>\n",
       "</tr>\n",
       "<tr>\n",
       "  <th>condition</th>   <td> 8100.5857</td> <td> 1807.803</td> <td>    4.481</td> <td> 0.000</td> <td> 4557.144</td> <td> 1.16e+04</td>\n",
       "</tr>\n",
       "<tr>\n",
       "  <th>yr_built</th>    <td>-9.708e+04</td> <td> 2168.308</td> <td>  -44.770</td> <td> 0.000</td> <td>-1.01e+05</td> <td>-9.28e+04</td>\n",
       "</tr>\n",
       "</table>\n",
       "<table class=\"simpletable\">\n",
       "<tr>\n",
       "  <th>Omnibus:</th>       <td>11719.779</td> <th>  Durbin-Watson:     </th>  <td>   1.977</td> \n",
       "</tr>\n",
       "<tr>\n",
       "  <th>Prob(Omnibus):</th>  <td> 0.000</td>   <th>  Jarque-Bera (JB):  </th> <td>202821.781</td>\n",
       "</tr>\n",
       "<tr>\n",
       "  <th>Skew:</th>           <td> 2.453</td>   <th>  Prob(JB):          </th>  <td>    0.00</td> \n",
       "</tr>\n",
       "<tr>\n",
       "  <th>Kurtosis:</th>       <td>17.742</td>   <th>  Cond. No.          </th>  <td>    3.77</td> \n",
       "</tr>\n",
       "</table><br/><br/>Warnings:<br/>[1] Standard Errors assume that the covariance matrix of the errors is correctly specified."
      ],
      "text/plain": [
       "<class 'statsmodels.iolib.summary.Summary'>\n",
       "\"\"\"\n",
       "                            OLS Regression Results                            \n",
       "==============================================================================\n",
       "Dep. Variable:                  price   R-squared:                       0.440\n",
       "Model:                            OLS   Adj. R-squared:                  0.440\n",
       "Method:                 Least Squares   F-statistic:                     2643.\n",
       "Date:                Mon, 10 Feb 2020   Prob (F-statistic):               0.00\n",
       "Time:                        11:48:04   Log-Likelihood:            -2.7800e+05\n",
       "No. Observations:               20166   AIC:                         5.560e+05\n",
       "Df Residuals:                   20159   BIC:                         5.561e+05\n",
       "Df Model:                           6                                         \n",
       "Covariance Type:            nonrobust                                         \n",
       "===============================================================================\n",
       "                  coef    std err          t      P>|t|      [0.025      0.975]\n",
       "-------------------------------------------------------------------------------\n",
       "const        5.268e+05   1666.641    316.106      0.000    5.24e+05     5.3e+05\n",
       "bedrooms    -5.682e+04   2480.118    -22.908      0.000   -6.17e+04    -5.2e+04\n",
       "bathrooms    6.916e+04   3156.498     21.912      0.000     6.3e+04    7.54e+04\n",
       "sqft_living  2.098e+05   2972.231     70.573      0.000    2.04e+05    2.16e+05\n",
       "floors       2.631e+04   2325.697     11.312      0.000    2.17e+04    3.09e+04\n",
       "condition    8100.5857   1807.803      4.481      0.000    4557.144    1.16e+04\n",
       "yr_built    -9.708e+04   2168.308    -44.770      0.000   -1.01e+05   -9.28e+04\n",
       "==============================================================================\n",
       "Omnibus:                    11719.779   Durbin-Watson:                   1.977\n",
       "Prob(Omnibus):                  0.000   Jarque-Bera (JB):           202821.781\n",
       "Skew:                           2.453   Prob(JB):                         0.00\n",
       "Kurtosis:                      17.742   Cond. No.                         3.77\n",
       "==============================================================================\n",
       "\n",
       "Warnings:\n",
       "[1] Standard Errors assume that the covariance matrix of the errors is correctly specified.\n",
       "\"\"\""
      ]
     },
     "execution_count": 71,
     "metadata": {},
     "output_type": "execute_result"
    }
   ],
   "source": [
    "#make sure that rows that have NANs are the rows that were dropped from the features dataset which had outliers\n",
    "\n",
    "#take training data and fit the model to it\n",
    "#use that fitted model to predict training y values\n",
    "#calc train MSE by using predicted training y values and actual y values\n",
    "\n",
    "#use that fitted model to predict test y values\n",
    "#calc test MSE by using predicted test y values and actual test y values\n",
    "X_inter = sm.add_constant(X)\n",
    "model = sm.OLS(y, X_inter).fit()\n",
    "model.summary()"
   ]
  },
  {
   "cell_type": "code",
   "execution_count": 179,
   "metadata": {},
   "outputs": [
    {
     "name": "stdout",
     "output_type": "stream",
     "text": [
      "(16132, 6) (16132,)\n",
      "(4034, 6) (4034,)\n"
     ]
    }
   ],
   "source": [
    "print(X_train.shape, y_train.shape)\n",
    "print(X_test.shape, y_test.shape)"
   ]
  },
  {
   "cell_type": "code",
   "execution_count": 73,
   "metadata": {},
   "outputs": [],
   "source": [
    "lm = linear_model.LinearRegression()"
   ]
  },
  {
   "cell_type": "code",
   "execution_count": 74,
   "metadata": {},
   "outputs": [],
   "source": [
    "model = lm.fit(X_train, y_train)\n",
    "y_hat_test = lm.predict(X_test)\n",
    "y_hat_train = lm.predict(X_train)"
   ]
  },
  {
   "cell_type": "code",
   "execution_count": 75,
   "metadata": {},
   "outputs": [
    {
     "data": {
      "text/plain": [
       "LinearRegression(copy_X=True, fit_intercept=True, n_jobs=None, normalize=False)"
      ]
     },
     "execution_count": 75,
     "metadata": {},
     "output_type": "execute_result"
    }
   ],
   "source": [
    "model"
   ]
  },
  {
   "cell_type": "code",
   "execution_count": null,
   "metadata": {},
   "outputs": [],
   "source": []
  },
  {
   "cell_type": "code",
   "execution_count": 76,
   "metadata": {},
   "outputs": [],
   "source": [
    "train_mse =  mean_squared_error(y_train, y_hat_train)\n",
    "test_mse = mean_squared_error(y_test, y_hat_test )"
   ]
  },
  {
   "cell_type": "code",
   "execution_count": 77,
   "metadata": {},
   "outputs": [
    {
     "data": {
      "text/plain": [
       "51163308551.58813"
      ]
     },
     "execution_count": 77,
     "metadata": {},
     "output_type": "execute_result"
    }
   ],
   "source": [
    "test_mse"
   ]
  },
  {
   "cell_type": "code",
   "execution_count": 78,
   "metadata": {},
   "outputs": [
    {
     "data": {
      "text/plain": [
       "56150451957.048"
      ]
     },
     "execution_count": 78,
     "metadata": {},
     "output_type": "execute_result"
    }
   ],
   "source": [
    "train_mse"
   ]
  },
  {
   "cell_type": "code",
   "execution_count": 79,
   "metadata": {},
   "outputs": [],
   "source": [
    "from sklearn.model_selection import cross_val_score"
   ]
  },
  {
   "cell_type": "code",
   "execution_count": 80,
   "metadata": {},
   "outputs": [
    {
     "data": {
      "text/plain": [
       "0.43744907139917866"
      ]
     },
     "execution_count": 80,
     "metadata": {},
     "output_type": "execute_result"
    }
   ],
   "source": [
    "np.mean(cross_val_score(lm, X, y, cv = 5))"
   ]
  },
  {
   "cell_type": "code",
   "execution_count": 81,
   "metadata": {},
   "outputs": [
    {
     "data": {
      "text/plain": [
       "0.4368677522868527"
      ]
     },
     "execution_count": 81,
     "metadata": {},
     "output_type": "execute_result"
    }
   ],
   "source": [
    "np.mean(cross_val_score(lm, X, y, cv = 10))"
   ]
  },
  {
   "cell_type": "code",
   "execution_count": 82,
   "metadata": {},
   "outputs": [
    {
     "data": {
      "text/plain": [
       "0.43692830530219245"
      ]
     },
     "execution_count": 82,
     "metadata": {},
     "output_type": "execute_result"
    }
   ],
   "source": [
    "np.mean(cross_val_score(lm, X, y, cv = 15))"
   ]
  },
  {
   "cell_type": "code",
   "execution_count": 83,
   "metadata": {},
   "outputs": [
    {
     "data": {
      "text/plain": [
       "array([0.45250556, 0.42626249, 0.44506951, 0.44167948, 0.42172831])"
      ]
     },
     "execution_count": 83,
     "metadata": {},
     "output_type": "execute_result"
    }
   ],
   "source": [
    "cross_val_score(lm, X, y, cv = 5)"
   ]
  },
  {
   "cell_type": "code",
   "execution_count": 84,
   "metadata": {},
   "outputs": [
    {
     "data": {
      "text/html": [
       "<div>\n",
       "<style scoped>\n",
       "    .dataframe tbody tr th:only-of-type {\n",
       "        vertical-align: middle;\n",
       "    }\n",
       "\n",
       "    .dataframe tbody tr th {\n",
       "        vertical-align: top;\n",
       "    }\n",
       "\n",
       "    .dataframe thead th {\n",
       "        text-align: right;\n",
       "    }\n",
       "</style>\n",
       "<table border=\"1\" class=\"dataframe\">\n",
       "  <thead>\n",
       "    <tr style=\"text-align: right;\">\n",
       "      <th></th>\n",
       "      <th>id</th>\n",
       "      <th>price</th>\n",
       "      <th>bedrooms</th>\n",
       "      <th>bathrooms</th>\n",
       "      <th>sqft_living</th>\n",
       "      <th>sqft_lot</th>\n",
       "      <th>floors</th>\n",
       "      <th>condition</th>\n",
       "      <th>grade</th>\n",
       "      <th>yr_built</th>\n",
       "      <th>zipcode</th>\n",
       "    </tr>\n",
       "  </thead>\n",
       "  <tbody>\n",
       "    <tr>\n",
       "      <th>0</th>\n",
       "      <td>7129300520</td>\n",
       "      <td>221900</td>\n",
       "      <td>3</td>\n",
       "      <td>1.00</td>\n",
       "      <td>7.073270</td>\n",
       "      <td>5650</td>\n",
       "      <td>1.0</td>\n",
       "      <td>3</td>\n",
       "      <td>7</td>\n",
       "      <td>1955</td>\n",
       "      <td>98178</td>\n",
       "    </tr>\n",
       "    <tr>\n",
       "      <th>1</th>\n",
       "      <td>6414100192</td>\n",
       "      <td>538000</td>\n",
       "      <td>3</td>\n",
       "      <td>2.25</td>\n",
       "      <td>7.851661</td>\n",
       "      <td>7242</td>\n",
       "      <td>2.0</td>\n",
       "      <td>3</td>\n",
       "      <td>7</td>\n",
       "      <td>1951</td>\n",
       "      <td>98125</td>\n",
       "    </tr>\n",
       "    <tr>\n",
       "      <th>2</th>\n",
       "      <td>5631500400</td>\n",
       "      <td>180000</td>\n",
       "      <td>2</td>\n",
       "      <td>1.00</td>\n",
       "      <td>6.646391</td>\n",
       "      <td>10000</td>\n",
       "      <td>1.0</td>\n",
       "      <td>3</td>\n",
       "      <td>6</td>\n",
       "      <td>1933</td>\n",
       "      <td>98028</td>\n",
       "    </tr>\n",
       "    <tr>\n",
       "      <th>3</th>\n",
       "      <td>2487200875</td>\n",
       "      <td>604000</td>\n",
       "      <td>4</td>\n",
       "      <td>3.00</td>\n",
       "      <td>7.580700</td>\n",
       "      <td>5000</td>\n",
       "      <td>1.0</td>\n",
       "      <td>5</td>\n",
       "      <td>7</td>\n",
       "      <td>1965</td>\n",
       "      <td>98136</td>\n",
       "    </tr>\n",
       "    <tr>\n",
       "      <th>4</th>\n",
       "      <td>1954400510</td>\n",
       "      <td>510000</td>\n",
       "      <td>3</td>\n",
       "      <td>2.00</td>\n",
       "      <td>7.426549</td>\n",
       "      <td>8080</td>\n",
       "      <td>1.0</td>\n",
       "      <td>3</td>\n",
       "      <td>8</td>\n",
       "      <td>1987</td>\n",
       "      <td>98074</td>\n",
       "    </tr>\n",
       "  </tbody>\n",
       "</table>\n",
       "</div>"
      ],
      "text/plain": [
       "           id   price  bedrooms  bathrooms  sqft_living  sqft_lot  floors  \\\n",
       "0  7129300520  221900         3       1.00     7.073270      5650     1.0   \n",
       "1  6414100192  538000         3       2.25     7.851661      7242     2.0   \n",
       "2  5631500400  180000         2       1.00     6.646391     10000     1.0   \n",
       "3  2487200875  604000         4       3.00     7.580700      5000     1.0   \n",
       "4  1954400510  510000         3       2.00     7.426549      8080     1.0   \n",
       "\n",
       "   condition  grade  yr_built  zipcode  \n",
       "0          3      7      1955    98178  \n",
       "1          3      7      1951    98125  \n",
       "2          3      6      1933    98028  \n",
       "3          5      7      1965    98136  \n",
       "4          3      8      1987    98074  "
      ]
     },
     "execution_count": 84,
     "metadata": {},
     "output_type": "execute_result"
    }
   ],
   "source": [
    "df.head()"
   ]
  },
  {
   "cell_type": "code",
   "execution_count": 85,
   "metadata": {},
   "outputs": [
    {
     "data": {
      "text/plain": [
       "3"
      ]
     },
     "execution_count": 85,
     "metadata": {},
     "output_type": "execute_result"
    }
   ],
   "source": [
    "df.duplicated().sum()"
   ]
  },
  {
   "cell_type": "code",
   "execution_count": 86,
   "metadata": {},
   "outputs": [],
   "source": [
    "df.drop_duplicates(inplace = True)"
   ]
  },
  {
   "cell_type": "code",
   "execution_count": 87,
   "metadata": {},
   "outputs": [
    {
     "data": {
      "text/plain": [
       "0"
      ]
     },
     "execution_count": 87,
     "metadata": {},
     "output_type": "execute_result"
    }
   ],
   "source": [
    "df.duplicated().sum()"
   ]
  },
  {
   "cell_type": "code",
   "execution_count": 88,
   "metadata": {},
   "outputs": [
    {
     "data": {
      "text/html": [
       "<div>\n",
       "<style scoped>\n",
       "    .dataframe tbody tr th:only-of-type {\n",
       "        vertical-align: middle;\n",
       "    }\n",
       "\n",
       "    .dataframe tbody tr th {\n",
       "        vertical-align: top;\n",
       "    }\n",
       "\n",
       "    .dataframe thead th {\n",
       "        text-align: right;\n",
       "    }\n",
       "</style>\n",
       "<table border=\"1\" class=\"dataframe\">\n",
       "  <thead>\n",
       "    <tr style=\"text-align: right;\">\n",
       "      <th></th>\n",
       "      <th>id</th>\n",
       "      <th>price</th>\n",
       "      <th>bedrooms</th>\n",
       "      <th>bathrooms</th>\n",
       "      <th>sqft_living</th>\n",
       "      <th>sqft_lot</th>\n",
       "      <th>floors</th>\n",
       "      <th>condition</th>\n",
       "      <th>grade</th>\n",
       "      <th>yr_built</th>\n",
       "      <th>zipcode</th>\n",
       "    </tr>\n",
       "  </thead>\n",
       "  <tbody>\n",
       "    <tr>\n",
       "      <th>count</th>\n",
       "      <td>2.161000e+04</td>\n",
       "      <td>2.161000e+04</td>\n",
       "      <td>21610.000000</td>\n",
       "      <td>21610.000000</td>\n",
       "      <td>21610.000000</td>\n",
       "      <td>2.161000e+04</td>\n",
       "      <td>21610.000000</td>\n",
       "      <td>21610.000000</td>\n",
       "      <td>21610.000000</td>\n",
       "      <td>21610.000000</td>\n",
       "      <td>21610.000000</td>\n",
       "    </tr>\n",
       "    <tr>\n",
       "      <th>mean</th>\n",
       "      <td>4.580161e+09</td>\n",
       "      <td>5.400849e+05</td>\n",
       "      <td>3.370847</td>\n",
       "      <td>2.114739</td>\n",
       "      <td>7.550314</td>\n",
       "      <td>1.510829e+04</td>\n",
       "      <td>1.494239</td>\n",
       "      <td>3.409440</td>\n",
       "      <td>7.656779</td>\n",
       "      <td>1971.003609</td>\n",
       "      <td>98077.945673</td>\n",
       "    </tr>\n",
       "    <tr>\n",
       "      <th>std</th>\n",
       "      <td>2.876547e+09</td>\n",
       "      <td>3.671525e+05</td>\n",
       "      <td>0.930110</td>\n",
       "      <td>0.770204</td>\n",
       "      <td>0.424831</td>\n",
       "      <td>4.142323e+04</td>\n",
       "      <td>0.539994</td>\n",
       "      <td>0.650764</td>\n",
       "      <td>1.175500</td>\n",
       "      <td>29.372639</td>\n",
       "      <td>53.505373</td>\n",
       "    </tr>\n",
       "    <tr>\n",
       "      <th>min</th>\n",
       "      <td>1.000102e+06</td>\n",
       "      <td>7.500000e+04</td>\n",
       "      <td>0.000000</td>\n",
       "      <td>0.000000</td>\n",
       "      <td>5.669881</td>\n",
       "      <td>5.200000e+02</td>\n",
       "      <td>1.000000</td>\n",
       "      <td>1.000000</td>\n",
       "      <td>1.000000</td>\n",
       "      <td>1900.000000</td>\n",
       "      <td>98001.000000</td>\n",
       "    </tr>\n",
       "    <tr>\n",
       "      <th>25%</th>\n",
       "      <td>2.123049e+09</td>\n",
       "      <td>3.216125e+05</td>\n",
       "      <td>3.000000</td>\n",
       "      <td>1.750000</td>\n",
       "      <td>7.262278</td>\n",
       "      <td>5.040000e+03</td>\n",
       "      <td>1.000000</td>\n",
       "      <td>3.000000</td>\n",
       "      <td>7.000000</td>\n",
       "      <td>1951.000000</td>\n",
       "      <td>98033.000000</td>\n",
       "    </tr>\n",
       "    <tr>\n",
       "      <th>50%</th>\n",
       "      <td>3.904930e+09</td>\n",
       "      <td>4.500000e+05</td>\n",
       "      <td>3.000000</td>\n",
       "      <td>2.250000</td>\n",
       "      <td>7.554859</td>\n",
       "      <td>7.619000e+03</td>\n",
       "      <td>1.500000</td>\n",
       "      <td>3.000000</td>\n",
       "      <td>7.000000</td>\n",
       "      <td>1975.000000</td>\n",
       "      <td>98065.000000</td>\n",
       "    </tr>\n",
       "    <tr>\n",
       "      <th>75%</th>\n",
       "      <td>7.308900e+09</td>\n",
       "      <td>6.450000e+05</td>\n",
       "      <td>4.000000</td>\n",
       "      <td>2.500000</td>\n",
       "      <td>7.843849</td>\n",
       "      <td>1.068875e+04</td>\n",
       "      <td>2.000000</td>\n",
       "      <td>4.000000</td>\n",
       "      <td>8.000000</td>\n",
       "      <td>1997.000000</td>\n",
       "      <td>98118.000000</td>\n",
       "    </tr>\n",
       "    <tr>\n",
       "      <th>max</th>\n",
       "      <td>9.900000e+09</td>\n",
       "      <td>7.700000e+06</td>\n",
       "      <td>33.000000</td>\n",
       "      <td>8.000000</td>\n",
       "      <td>9.513404</td>\n",
       "      <td>1.651359e+06</td>\n",
       "      <td>3.500000</td>\n",
       "      <td>5.000000</td>\n",
       "      <td>13.000000</td>\n",
       "      <td>2015.000000</td>\n",
       "      <td>98199.000000</td>\n",
       "    </tr>\n",
       "  </tbody>\n",
       "</table>\n",
       "</div>"
      ],
      "text/plain": [
       "                 id         price      bedrooms     bathrooms   sqft_living  \\\n",
       "count  2.161000e+04  2.161000e+04  21610.000000  21610.000000  21610.000000   \n",
       "mean   4.580161e+09  5.400849e+05      3.370847      2.114739      7.550314   \n",
       "std    2.876547e+09  3.671525e+05      0.930110      0.770204      0.424831   \n",
       "min    1.000102e+06  7.500000e+04      0.000000      0.000000      5.669881   \n",
       "25%    2.123049e+09  3.216125e+05      3.000000      1.750000      7.262278   \n",
       "50%    3.904930e+09  4.500000e+05      3.000000      2.250000      7.554859   \n",
       "75%    7.308900e+09  6.450000e+05      4.000000      2.500000      7.843849   \n",
       "max    9.900000e+09  7.700000e+06     33.000000      8.000000      9.513404   \n",
       "\n",
       "           sqft_lot        floors     condition         grade      yr_built  \\\n",
       "count  2.161000e+04  21610.000000  21610.000000  21610.000000  21610.000000   \n",
       "mean   1.510829e+04      1.494239      3.409440      7.656779   1971.003609   \n",
       "std    4.142323e+04      0.539994      0.650764      1.175500     29.372639   \n",
       "min    5.200000e+02      1.000000      1.000000      1.000000   1900.000000   \n",
       "25%    5.040000e+03      1.000000      3.000000      7.000000   1951.000000   \n",
       "50%    7.619000e+03      1.500000      3.000000      7.000000   1975.000000   \n",
       "75%    1.068875e+04      2.000000      4.000000      8.000000   1997.000000   \n",
       "max    1.651359e+06      3.500000      5.000000     13.000000   2015.000000   \n",
       "\n",
       "            zipcode  \n",
       "count  21610.000000  \n",
       "mean   98077.945673  \n",
       "std       53.505373  \n",
       "min    98001.000000  \n",
       "25%    98033.000000  \n",
       "50%    98065.000000  \n",
       "75%    98118.000000  \n",
       "max    98199.000000  "
      ]
     },
     "execution_count": 88,
     "metadata": {},
     "output_type": "execute_result"
    }
   ],
   "source": [
    "df.describe()"
   ]
  },
  {
   "cell_type": "code",
   "execution_count": 89,
   "metadata": {},
   "outputs": [],
   "source": [
    "#scaled_df[scaled_df[]]"
   ]
  },
  {
   "cell_type": "code",
   "execution_count": null,
   "metadata": {},
   "outputs": [],
   "source": []
  },
  {
   "cell_type": "code",
   "execution_count": 90,
   "metadata": {},
   "outputs": [],
   "source": [
    "from sklearn import preprocessing"
   ]
  },
  {
   "cell_type": "code",
   "execution_count": 91,
   "metadata": {},
   "outputs": [],
   "source": [
    "from scipy import stats"
   ]
  },
  {
   "cell_type": "code",
   "execution_count": 92,
   "metadata": {},
   "outputs": [],
   "source": [
    "names = df.columns"
   ]
  },
  {
   "cell_type": "code",
   "execution_count": 93,
   "metadata": {},
   "outputs": [],
   "source": [
    "z_df = stats.zscore(df)\n",
    "z_df = pd.DataFrame(z_df, columns = df.columns)"
   ]
  },
  {
   "cell_type": "code",
   "execution_count": 94,
   "metadata": {},
   "outputs": [],
   "source": [
    "scaler = preprocessing.StandardScaler()\n",
    "\n",
    "scaled_df = scaler.fit_transform(df)\n",
    "scaled_df = pd.DataFrame(scaled_df, columns = names)"
   ]
  },
  {
   "cell_type": "code",
   "execution_count": 95,
   "metadata": {},
   "outputs": [
    {
     "data": {
      "text/html": [
       "<div>\n",
       "<style scoped>\n",
       "    .dataframe tbody tr th:only-of-type {\n",
       "        vertical-align: middle;\n",
       "    }\n",
       "\n",
       "    .dataframe tbody tr th {\n",
       "        vertical-align: top;\n",
       "    }\n",
       "\n",
       "    .dataframe thead th {\n",
       "        text-align: right;\n",
       "    }\n",
       "</style>\n",
       "<table border=\"1\" class=\"dataframe\">\n",
       "  <thead>\n",
       "    <tr style=\"text-align: right;\">\n",
       "      <th></th>\n",
       "      <th>id</th>\n",
       "      <th>price</th>\n",
       "      <th>bedrooms</th>\n",
       "      <th>bathrooms</th>\n",
       "      <th>sqft_living</th>\n",
       "      <th>sqft_lot</th>\n",
       "      <th>floors</th>\n",
       "      <th>condition</th>\n",
       "      <th>grade</th>\n",
       "      <th>yr_built</th>\n",
       "      <th>zipcode</th>\n",
       "    </tr>\n",
       "  </thead>\n",
       "  <tbody>\n",
       "    <tr>\n",
       "      <th>0</th>\n",
       "      <td>0.886201</td>\n",
       "      <td>-0.866649</td>\n",
       "      <td>-0.398722</td>\n",
       "      <td>-1.447363</td>\n",
       "      <td>-1.122929</td>\n",
       "      <td>-0.228338</td>\n",
       "      <td>-0.915289</td>\n",
       "      <td>-0.629183</td>\n",
       "      <td>-0.558736</td>\n",
       "      <td>-0.544860</td>\n",
       "      <td>1.870030</td>\n",
       "    </tr>\n",
       "    <tr>\n",
       "      <th>1</th>\n",
       "      <td>0.637564</td>\n",
       "      <td>-0.005679</td>\n",
       "      <td>-0.398722</td>\n",
       "      <td>0.175622</td>\n",
       "      <td>0.709350</td>\n",
       "      <td>-0.189905</td>\n",
       "      <td>0.936628</td>\n",
       "      <td>-0.629183</td>\n",
       "      <td>-0.558736</td>\n",
       "      <td>-0.681044</td>\n",
       "      <td>0.879452</td>\n",
       "    </tr>\n",
       "    <tr>\n",
       "      <th>2</th>\n",
       "      <td>0.365495</td>\n",
       "      <td>-0.980773</td>\n",
       "      <td>-1.473889</td>\n",
       "      <td>-1.447363</td>\n",
       "      <td>-2.127773</td>\n",
       "      <td>-0.123322</td>\n",
       "      <td>-0.915289</td>\n",
       "      <td>-0.629183</td>\n",
       "      <td>-1.409458</td>\n",
       "      <td>-1.293874</td>\n",
       "      <td>-0.933492</td>\n",
       "    </tr>\n",
       "    <tr>\n",
       "      <th>3</th>\n",
       "      <td>-0.727611</td>\n",
       "      <td>0.174087</td>\n",
       "      <td>0.676445</td>\n",
       "      <td>1.149413</td>\n",
       "      <td>0.071525</td>\n",
       "      <td>-0.244030</td>\n",
       "      <td>-0.915289</td>\n",
       "      <td>2.444199</td>\n",
       "      <td>-0.558736</td>\n",
       "      <td>-0.204399</td>\n",
       "      <td>1.085044</td>\n",
       "    </tr>\n",
       "    <tr>\n",
       "      <th>4</th>\n",
       "      <td>-0.912838</td>\n",
       "      <td>-0.081943</td>\n",
       "      <td>-0.398722</td>\n",
       "      <td>-0.148975</td>\n",
       "      <td>-0.291334</td>\n",
       "      <td>-0.169674</td>\n",
       "      <td>-0.915289</td>\n",
       "      <td>-0.629183</td>\n",
       "      <td>0.291985</td>\n",
       "      <td>0.544614</td>\n",
       "      <td>-0.073745</td>\n",
       "    </tr>\n",
       "  </tbody>\n",
       "</table>\n",
       "</div>"
      ],
      "text/plain": [
       "         id     price  bedrooms  bathrooms  sqft_living  sqft_lot    floors  \\\n",
       "0  0.886201 -0.866649 -0.398722  -1.447363    -1.122929 -0.228338 -0.915289   \n",
       "1  0.637564 -0.005679 -0.398722   0.175622     0.709350 -0.189905  0.936628   \n",
       "2  0.365495 -0.980773 -1.473889  -1.447363    -2.127773 -0.123322 -0.915289   \n",
       "3 -0.727611  0.174087  0.676445   1.149413     0.071525 -0.244030 -0.915289   \n",
       "4 -0.912838 -0.081943 -0.398722  -0.148975    -0.291334 -0.169674 -0.915289   \n",
       "\n",
       "   condition     grade  yr_built   zipcode  \n",
       "0  -0.629183 -0.558736 -0.544860  1.870030  \n",
       "1  -0.629183 -0.558736 -0.681044  0.879452  \n",
       "2  -0.629183 -1.409458 -1.293874 -0.933492  \n",
       "3   2.444199 -0.558736 -0.204399  1.085044  \n",
       "4  -0.629183  0.291985  0.544614 -0.073745  "
      ]
     },
     "execution_count": 95,
     "metadata": {},
     "output_type": "execute_result"
    }
   ],
   "source": [
    "z_df.head()"
   ]
  },
  {
   "cell_type": "code",
   "execution_count": null,
   "metadata": {},
   "outputs": [],
   "source": [
    "df.head()"
   ]
  },
  {
   "cell_type": "code",
   "execution_count": null,
   "metadata": {},
   "outputs": [],
   "source": [
    "np.log(scaled_df['sqft_lot']).hist()"
   ]
  },
  {
   "cell_type": "code",
   "execution_count": null,
   "metadata": {},
   "outputs": [],
   "source": [
    "scaled_df.head()"
   ]
  },
  {
   "cell_type": "code",
   "execution_count": null,
   "metadata": {},
   "outputs": [],
   "source": [
    "scaled_df.shape"
   ]
  },
  {
   "cell_type": "code",
   "execution_count": null,
   "metadata": {},
   "outputs": [],
   "source": [
    "scaled_df['sqft_lot'].value_counts()"
   ]
  },
  {
   "cell_type": "code",
   "execution_count": null,
   "metadata": {},
   "outputs": [],
   "source": [
    "plt.figure(figsize=(20,10))\n",
    "sns.boxplot(data =scaled_df,orient = 'h')"
   ]
  },
  {
   "cell_type": "code",
   "execution_count": null,
   "metadata": {},
   "outputs": [],
   "source": [
    "df.head()"
   ]
  },
  {
   "cell_type": "code",
   "execution_count": null,
   "metadata": {},
   "outputs": [],
   "source": []
  },
  {
   "cell_type": "code",
   "execution_count": null,
   "metadata": {},
   "outputs": [],
   "source": [
    "df['sqft_lot'].describe()"
   ]
  },
  {
   "cell_type": "code",
   "execution_count": null,
   "metadata": {},
   "outputs": [],
   "source": [
    "df.head()"
   ]
  },
  {
   "cell_type": "code",
   "execution_count": null,
   "metadata": {},
   "outputs": [],
   "source": []
  },
  {
   "cell_type": "code",
   "execution_count": null,
   "metadata": {},
   "outputs": [],
   "source": [
    "s_df.shape"
   ]
  },
  {
   "cell_type": "code",
   "execution_count": null,
   "metadata": {},
   "outputs": [],
   "source": [
    "s_df.head()"
   ]
  },
  {
   "cell_type": "code",
   "execution_count": null,
   "metadata": {},
   "outputs": [],
   "source": []
  },
  {
   "cell_type": "code",
   "execution_count": null,
   "metadata": {},
   "outputs": [],
   "source": []
  },
  {
   "cell_type": "code",
   "execution_count": null,
   "metadata": {},
   "outputs": [],
   "source": []
  },
  {
   "cell_type": "code",
   "execution_count": null,
   "metadata": {},
   "outputs": [],
   "source": []
  },
  {
   "cell_type": "code",
   "execution_count": null,
   "metadata": {},
   "outputs": [],
   "source": []
  }
 ],
 "metadata": {
  "kernelspec": {
   "display_name": "Python 3",
   "language": "python",
   "name": "python3"
  },
  "language_info": {
   "codemirror_mode": {
    "name": "ipython",
    "version": 3
   },
   "file_extension": ".py",
   "mimetype": "text/x-python",
   "name": "python",
   "nbconvert_exporter": "python",
   "pygments_lexer": "ipython3",
   "version": "3.7.3"
  }
 },
 "nbformat": 4,
 "nbformat_minor": 4
}
